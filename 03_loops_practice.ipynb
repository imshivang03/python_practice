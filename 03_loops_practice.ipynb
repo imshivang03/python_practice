{
 "cells": [
  {
   "cell_type": "code",
   "execution_count": 6,
   "id": "9e02261d",
   "metadata": {},
   "outputs": [
    {
     "name": "stdout",
     "output_type": "stream",
     "text": [
      "18\n"
     ]
    }
   ],
   "source": [
    "s = \"Shivang is my name\"\n",
    "count=0\n",
    "for i in s:\n",
    "    count = count+1\n",
    "print (count)"
   ]
  },
  {
   "cell_type": "code",
   "execution_count": 7,
   "id": "52f0e876",
   "metadata": {},
   "outputs": [
    {
     "data": {
      "text/plain": [
       "'eman ym si gnavihS'"
      ]
     },
     "execution_count": 7,
     "metadata": {},
     "output_type": "execute_result"
    }
   ],
   "source": [
    "s[::-1]"
   ]
  },
  {
   "cell_type": "code",
   "execution_count": 9,
   "id": "b53bbc1e",
   "metadata": {},
   "outputs": [
    {
     "name": "stdout",
     "output_type": "stream",
     "text": [
      "e\n",
      "m\n",
      "a\n",
      "n\n",
      " \n",
      "y\n",
      "m\n",
      " \n",
      "s\n",
      "i\n",
      " \n",
      "g\n",
      "n\n",
      "a\n",
      "v\n",
      "i\n",
      "h\n",
      "S\n"
     ]
    }
   ],
   "source": [
    "for i in range(len(s)-1 , -1, -1):\n",
    "    print(s[i])"
   ]
  },
  {
   "cell_type": "code",
   "execution_count": 16,
   "id": "8e7e9b0e",
   "metadata": {},
   "outputs": [
    {
     "name": "stdout",
     "output_type": "stream",
     "text": [
      "eman ym si gnavihS"
     ]
    }
   ],
   "source": [
    "l = len(s)-1\n",
    "while (l>=0):\n",
    "    print (s[l], end=\"\")\n",
    "    l=l-1"
   ]
  },
  {
   "cell_type": "code",
   "execution_count": 17,
   "id": "8aae78ce",
   "metadata": {},
   "outputs": [
    {
     "name": "stdout",
     "output_type": "stream",
     "text": [
      "4\n"
     ]
    }
   ],
   "source": [
    "s = \"ineuron\"\n",
    "v = \"AaEeIiOoUu\"\n",
    "count=0\n",
    "for i in s:\n",
    "    if i in v:\n",
    "        count= count+1\n",
    "print (count)"
   ]
  },
  {
   "cell_type": "code",
   "execution_count": 24,
   "id": "1efc8c69",
   "metadata": {},
   "outputs": [
    {
     "name": "stdout",
     "output_type": "stream",
     "text": [
      "i is vowel\n",
      "n is not a vowel\n",
      "e is vowel\n",
      "u is vowel\n",
      "r is not a vowel\n",
      "o is vowel\n",
      "n is not a vowel\n"
     ]
    }
   ],
   "source": [
    "s = \"ineuron\"\n",
    "v = \"AaEeIiOoUu\"\n",
    "for i in s:\n",
    "    if i in v:\n",
    "        print(i, \"is vowel\")\n",
    "    else:\n",
    "        print (i, \"is not a vowel\")"
   ]
  },
  {
   "cell_type": "code",
   "execution_count": 33,
   "id": "0df81997",
   "metadata": {},
   "outputs": [
    {
     "name": "stdout",
     "output_type": "stream",
     "text": [
      "eter a stringsaac\n",
      "saac not a palindrome\n"
     ]
    }
   ],
   "source": [
    "s= input(\"eter a string\")\n",
    "p= s[::-1]\n",
    "if s==p:\n",
    "    print (\"the sring\" , s, \"is palindrome\")\n",
    "else:\n",
    "    print (s, \"not a palindrome\")"
   ]
  },
  {
   "cell_type": "code",
   "execution_count": 3,
   "id": "78a773a5",
   "metadata": {},
   "outputs": [
    {
     "name": "stdout",
     "output_type": "stream",
     "text": [
      "Palindrome\n"
     ]
    }
   ],
   "source": [
    "word=\"eeyee\"\n",
    "\n",
    "for i in range(len(word)):\n",
    "    if word[i]!=word[len(word)-i-1]:\n",
    "        print(\"Not palindrome\")\n",
    "        break\n",
    "else:\n",
    "    print(\"Palindrome\")"
   ]
  },
  {
   "cell_type": "code",
   "execution_count": 4,
   "id": "dd431f75",
   "metadata": {},
   "outputs": [
    {
     "name": "stdout",
     "output_type": "stream",
     "text": [
      "box\n",
      "not a palindrome\n"
     ]
    }
   ],
   "source": [
    "s=input()\n",
    "f=\"\"\n",
    "i=len(s)-1\n",
    "\n",
    "while(i>=0):\n",
    "    f=f+s[i]\n",
    "    i=i-1\n",
    "if(s==f):\n",
    "    print(\"palindrome\")\n",
    "else:\n",
    "    print(\"not a palindrome\")"
   ]
  },
  {
   "cell_type": "code",
   "execution_count": 5,
   "id": "65719f8a",
   "metadata": {},
   "outputs": [
    {
     "name": "stdout",
     "output_type": "stream",
     "text": [
      "Yes\n"
     ]
    }
   ],
   "source": [
    "x = \"malayalam\"\n",
    " \n",
    "w = \"\"\n",
    "for i in x:\n",
    "    w = i + w\n",
    " \n",
    "if (x == w):\n",
    "    print(\"Yes\")\n",
    "else:\n",
    "    print(\"No\")"
   ]
  },
  {
   "cell_type": "markdown",
   "id": "0bf00691",
   "metadata": {},
   "source": [
    "# the below code seems good."
   ]
  },
  {
   "cell_type": "code",
   "execution_count": 9,
   "id": "61c602c2",
   "metadata": {},
   "outputs": [
    {
     "name": "stdout",
     "output_type": "stream",
     "text": [
      "Non palindrome\n"
     ]
    }
   ],
   "source": [
    "s = \"while\"\n",
    "l=len(s)\n",
    "k=0\n",
    "for i in range(l):\n",
    "    if s[i]==s[l-i-1]:\n",
    "               \n",
    "               continue\n",
    "    else:\n",
    "               print(\"Non palindrome\")\n",
    "               k=1\n",
    "               break\n",
    "if k==0:\n",
    "    print(\"palindrome\")"
   ]
  },
  {
   "cell_type": "code",
   "execution_count": 10,
   "id": "dec0421d",
   "metadata": {},
   "outputs": [],
   "source": [
    "d = {\"india\" :\"IN\" ,\n",
    "     \"canada\" : \"CA\",\n",
    "     \"china\" : \"CH\",\n",
    "     \"united state \" : \"US\"\n",
    "    }"
   ]
  },
  {
   "cell_type": "code",
   "execution_count": 15,
   "id": "9e39e0a2",
   "metadata": {},
   "outputs": [
    {
     "name": "stdout",
     "output_type": "stream",
     "text": [
      "['india', 'china']\n",
      "['canada', 'united state ']\n"
     ]
    }
   ],
   "source": [
    "l1=[]\n",
    "l2=[]\n",
    "for i in d:\n",
    "    if len(i) <= 5:\n",
    "        l1.append(i)\n",
    "    elif len(i) > 5:\n",
    "        l2.append(i)\n",
    "print (l1)\n",
    "print (l2)"
   ]
  },
  {
   "cell_type": "code",
   "execution_count": 26,
   "id": "6c9c8f73",
   "metadata": {},
   "outputs": [],
   "source": [
    "d = {\"ineruon\" :{\n",
    "                        \"a\" : 14,\n",
    "                        \"b\":10,\n",
    "                        \"c\" : 4\n",
    "                    },\n",
    "        \n",
    "       'course' : {\n",
    "                       'd':45,\n",
    "                       \"e\" : 34,\n",
    "                       'f' :1\n",
    "                   }\n",
    "    }"
   ]
  },
  {
   "cell_type": "code",
   "execution_count": 30,
   "id": "9a473588",
   "metadata": {},
   "outputs": [
    {
     "name": "stdout",
     "output_type": "stream",
     "text": [
      "14\n",
      "45\n",
      "[14, 10, 4, 45, 34, 1]\n"
     ]
    }
   ],
   "source": [
    "lst = []\n",
    "for i in d.values():\n",
    "    for j in i.values():\n",
    "        lst.append(j)\n",
    "    print(max(lst))\n",
    "print (lst)"
   ]
  },
  {
   "cell_type": "code",
   "execution_count": 31,
   "id": "23f1a093",
   "metadata": {
    "scrolled": true
   },
   "outputs": [
    {
     "name": "stdout",
     "output_type": "stream",
     "text": [
      "14\n",
      "66\n"
     ]
    }
   ],
   "source": [
    "d1={'ineuron':{\n",
    "    'a':14,\n",
    "    'b':10,\n",
    "    'c':4},\n",
    "   'course':{'d':45,\n",
    "    'e':34,\n",
    "    'i':66}\n",
    "}\n",
    "\n",
    "lst1=[]\n",
    "lst2=[]\n",
    "for i in d1['ineuron'].values():\n",
    "    lst1.append(i)\n",
    "    lst1.sort()\n",
    "print(lst1[-1])\n",
    "\n",
    "for i in d1['course'].values():\n",
    "    lst2.append(i)\n",
    "    lst2.sort()\n",
    "print(lst2[-1])"
   ]
  },
  {
   "cell_type": "code",
   "execution_count": 33,
   "id": "c4735e56",
   "metadata": {},
   "outputs": [
    {
     "name": "stdout",
     "output_type": "stream",
     "text": [
      "24\n",
      "99\n"
     ]
    }
   ],
   "source": [
    "d1 = {\"ineuron\":{\"a\":14,\"b\":24,\"c\":4},\n",
    "      \"course\":{\"d\":45,\"e\":99,\"f\":1}\n",
    "      }\n",
    "for i in d1.values():\n",
    "    \n",
    "    mx = 0\n",
    "    for j in i.values():\n",
    "        if mx<j:\n",
    "            mx = j\n",
    "    print(mx)"
   ]
  },
  {
   "cell_type": "code",
   "execution_count": 37,
   "id": "ecc8b60e",
   "metadata": {},
   "outputs": [
    {
     "name": "stdout",
     "output_type": "stream",
     "text": [
      "{'a': 14, 'b': 10, 'c': 4}\n",
      "14\n",
      "{'d': 45, 'e': 34, 'f': 1}\n",
      "45\n"
     ]
    }
   ],
   "source": [
    "for i in d_1.values():\n",
    "    print(i)\n",
    "    print(max(i.values()))"
   ]
  },
  {
   "cell_type": "code",
   "execution_count": 36,
   "id": "1b3ac4ce",
   "metadata": {},
   "outputs": [
    {
     "name": "stdout",
     "output_type": "stream",
     "text": [
      "14\n",
      "45\n"
     ]
    }
   ],
   "source": [
    "for i in d_1.keys():\n",
    "    #print(i)\n",
    "    print(max(d_1[i].values()))"
   ]
  },
  {
   "cell_type": "markdown",
   "id": "177e46ac",
   "metadata": {},
   "source": [
    "# Below is my solution."
   ]
  },
  {
   "cell_type": "code",
   "execution_count": 121,
   "id": "5db0a118",
   "metadata": {},
   "outputs": [
    {
     "name": "stdout",
     "output_type": "stream",
     "text": [
      "45\n"
     ]
    }
   ],
   "source": [
    "d={\"ineuron\":{\"a\":14,\"b\":10,\"c\":4, \"d\":\"cat\"},\n",
    "   \"course\":{\"d\":45,\"e\":34,\"f\":1}, \n",
    "     \"g\" : 34 ,\n",
    "     \"h\" :[45,6,7,8,9,3] , \n",
    "     'i' :(45,34,2) , \n",
    "     'j' :\"sudh\"}\n",
    "l=[]\n",
    "for i in d.values():\n",
    "    if type(i)==dict: \n",
    "        for j in i.values():\n",
    "            if type(j)==int:\n",
    "                l.append(j)\n",
    "    elif type(i)==int:\n",
    "        l.append(i)\n",
    "    elif type(i)== complex or type(i) == str:\n",
    "        pass\n",
    "    elif type(i)== list or type(i) == tuple:\n",
    "        l.append(max(i))\n",
    "print (max(l))\n"
   ]
  },
  {
   "cell_type": "markdown",
   "id": "ec261e7a",
   "metadata": {},
   "source": [
    "# Copied Solution"
   ]
  },
  {
   "cell_type": "code",
   "execution_count": 128,
   "id": "d593095a",
   "metadata": {},
   "outputs": [
    {
     "name": "stdout",
     "output_type": "stream",
     "text": [
      "3994\n"
     ]
    }
   ],
   "source": [
    "d_1={\"ineuron\":{\"a\":14,\"b\":10,\"c\":4},\n",
    "   \"course\":{\"d\":45,\"e\":34,\"f\":1}, \n",
    "     \"g\" : 3994 ,\n",
    "     \"h\" :[45,6,7,8,9,3] , \n",
    "     'i' :(45,34,2) , \n",
    "     'j' :\"sudh\"}\n",
    "l1=[]\n",
    "for i in d_1.values():\n",
    "    if type(i)==dict:\n",
    "        l1.append(max(i.values()))\n",
    "    elif type(i)==list:\n",
    "        l1.append(max(i))\n",
    "    elif type(i)==tuple:\n",
    "        l1.append(max(i))\n",
    "    elif type(i)== str:\n",
    "        pass\n",
    "    else:\n",
    "        l1.append(i)\n",
    "print(max(l1))"
   ]
  },
  {
   "cell_type": "code",
   "execution_count": 129,
   "id": "dc13ec3e",
   "metadata": {},
   "outputs": [
    {
     "name": "stdout",
     "output_type": "stream",
     "text": [
      "45\n"
     ]
    }
   ],
   "source": [
    "d1={'ineuron':{'a':14, 'b':10, 'c':4},'course':{'d':45, 'e':34, 'f':1},'g':34, 'h':[45,6,7,8,9,3], 'i':(45,34,2), 'k':'sudh'}\n",
    "l = []\n",
    "for i in d1.values():\n",
    "    if type(i) == int:\n",
    "        l.append(i)\n",
    "    elif type(i) == list or type(i) == tuple:\n",
    "        l.extend(i)\n",
    "    elif type(i) == dict:\n",
    "        for j in i.values():\n",
    "            l.append(j)\n",
    "print(max(l))"
   ]
  },
  {
   "cell_type": "code",
   "execution_count": 130,
   "id": "516f434c",
   "metadata": {},
   "outputs": [
    {
     "name": "stdout",
     "output_type": "stream",
     "text": [
      "True\n",
      "[45]\n"
     ]
    }
   ],
   "source": [
    "l=[]\n",
    "d={\"s\":{\"a\":45}}\n",
    "for i in d:\n",
    "    if type(d[i]) == dict:\n",
    "        print(True)\n",
    "        l.append(max(d[i].values()))\n",
    "    elif type(d[i]) == list or type(d[i]) == tuple:\n",
    "        l.append(max(d[i]))\n",
    "print(l)"
   ]
  },
  {
   "cell_type": "code",
   "execution_count": 131,
   "id": "e030f47a",
   "metadata": {},
   "outputs": [
    {
     "name": "stdout",
     "output_type": "stream",
     "text": [
      "83\n"
     ]
    }
   ],
   "source": [
    "# Q. Find the maximum integer out of all the values from a given dictionary d1\n",
    "\n",
    "##### SOLUTION: 1 #####\n",
    "\n",
    "d1 = {\n",
    "    \"apdaga\": {\n",
    "        \"a\":12,\n",
    "        \"b\":65,\n",
    "        \"c\":7\n",
    "    },\n",
    "    \"dumpbox\":{\n",
    "        \"d\":34,\n",
    "        \"e\":83,\n",
    "        \"f\":45\n",
    "    },\n",
    "    \"g\":34,\n",
    "    \"h\":[35,6,2,9,3],\n",
    "    \"i\":(65,34,2),\n",
    "    \"k\":\"akshay\"\n",
    "}\n",
    "\n",
    "# print(d1)\n",
    "\n",
    "out=[]\n",
    "\n",
    "for k,v in d1.items():\n",
    "    if type(v) == dict:\n",
    "        out.extend(list(v.values()))\n",
    "    elif type(v) == int:\n",
    "        out.append(v)\n",
    "    elif type(v) == list:\n",
    "        out.append(max(v))\n",
    "    elif type(v) == tuple:\n",
    "        out.append(max(v))\n",
    "    else:\n",
    "        pass\n",
    "    \n",
    "print(max(out))"
   ]
  },
  {
   "cell_type": "code",
   "execution_count": 134,
   "id": "db02ef07",
   "metadata": {},
   "outputs": [
    {
     "name": "stdout",
     "output_type": "stream",
     "text": [
      "[14, 10, 4, 45, 34, 1, 45, 6, 7, 8, 9, 3, 45, 34, 2]\n",
      "45\n"
     ]
    }
   ],
   "source": [
    "d_1 = {\"ineuron\" : {\n",
    "                        \"a\" : 14,\n",
    "                        \"b\" : 10,\n",
    "                        \"c\" : 4\n",
    "                        },\n",
    "          \"course\" : {\n",
    "                      \"d\" : 45,\n",
    "                      \"e\" : 34,\n",
    "                      \"f\" : 1\n",
    "                      },\n",
    "       \"g\" : 34,\n",
    "       \"h\" : [45,6,7,8,9,3],\n",
    "       \"i\" : (45,34,2),\n",
    "       \"k\" : \"sudh\"\n",
    "}\n",
    "\n",
    "l = []\n",
    "for i in d_1.values():\n",
    "    if type(i) != str and type(i)!= complex:\n",
    "        if type(i) == list or type(i) == tuple or type(i) == set:\n",
    "            l.extend(list(i))\n",
    "        elif type(i) == dict:\n",
    "            for j in i.values():\n",
    "                l.append(j)\n",
    "print(l)\n",
    "print(max(l))"
   ]
  },
  {
   "cell_type": "code",
   "execution_count": 135,
   "id": "60b1aa7f",
   "metadata": {},
   "outputs": [
    {
     "data": {
      "text/plain": [
       "8"
      ]
     },
     "execution_count": 135,
     "metadata": {},
     "output_type": "execute_result"
    }
   ],
   "source": [
    "t = (5,6,7,8)\n",
    "max(t)"
   ]
  }
 ],
 "metadata": {
  "kernelspec": {
   "display_name": "Python 3 (ipykernel)",
   "language": "python",
   "name": "python3"
  },
  "language_info": {
   "codemirror_mode": {
    "name": "ipython",
    "version": 3
   },
   "file_extension": ".py",
   "mimetype": "text/x-python",
   "name": "python",
   "nbconvert_exporter": "python",
   "pygments_lexer": "ipython3",
   "version": "3.9.7"
  }
 },
 "nbformat": 4,
 "nbformat_minor": 5
}
