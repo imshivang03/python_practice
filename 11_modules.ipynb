{
 "cells": [
  {
   "cell_type": "code",
   "execution_count": 1,
   "id": "0be87e8d",
   "metadata": {},
   "outputs": [
    {
     "data": {
      "text/plain": [
       "'C:\\\\Users\\\\shiva'"
      ]
     },
     "execution_count": 1,
     "metadata": {},
     "output_type": "execute_result"
    }
   ],
   "source": [
    "pwd"
   ]
  },
  {
   "cell_type": "code",
   "execution_count": 2,
   "id": "9cd39b57",
   "metadata": {},
   "outputs": [
    {
     "data": {
      "text/plain": [
       "<function dir>"
      ]
     },
     "execution_count": 2,
     "metadata": {},
     "output_type": "execute_result"
    }
   ],
   "source": [
    "dir"
   ]
  },
  {
   "cell_type": "code",
   "execution_count": 5,
   "id": "016d4a1c",
   "metadata": {
    "scrolled": true
   },
   "outputs": [
    {
     "name": "stdout",
     "output_type": "stream",
     "text": [
      " Volume in drive C is WINDOWS\n",
      " Volume Serial Number is 8232-B192\n",
      "\n",
      " Directory of C:\\Users\\shiva\n",
      "\n",
      "05/03/2022  02:48 PM    <DIR>          .\n",
      "05/03/2022  02:48 PM    <DIR>          ..\n",
      "01/23/2022  09:54 PM               913 .bash_history\n",
      "01/22/2022  11:37 PM                66 .gitconfig\n",
      "05/03/2022  02:29 PM    <DIR>          .ipynb_checkpoints\n",
      "01/21/2022  08:51 PM    <DIR>          .ipython\n",
      "04/19/2022  12:43 PM    <DIR>          .jupyter\n",
      "01/22/2022  11:37 PM                20 .lesshst\n",
      "12/26/2021  10:04 PM    <DIR>          3D Objects\n",
      "01/19/2022  09:58 PM    <DIR>          anaconda3\n",
      "04/18/2022  02:52 PM               908 Assignment_1.ipynb\n",
      "12/26/2021  10:04 PM    <DIR>          Contacts\n",
      "12/26/2021  10:41 PM    <DIR>          Documents\n",
      "05/03/2022  02:35 PM    <DIR>          Downloads\n",
      "04/29/2022  11:13 AM            32,832 Exception_handling.ipynb\n",
      "12/26/2021  10:04 PM    <DIR>          Favorites\n",
      "04/28/2022  02:46 PM            48,244 file_handling.ipynb\n",
      "04/17/2022  02:39 PM             8,865 for & while_loops.ipynb\n",
      "04/19/2022  03:34 PM            15,945 function_class-1.ipynb\n",
      "04/23/2022  09:57 PM            54,256 function_class-2.ipynb\n",
      "04/23/2022  10:34 AM             2,681 function_practice_problems.ipynb\n",
      "04/16/2022  11:33 PM            13,874 ifelse_forloops_day4.ipynb\n",
      "12/26/2021  10:04 PM    <DIR>          Links\n",
      "04/29/2022  05:10 PM            39,843 Logging & Debugging.ipynb\n",
      "04/30/2022  09:29 AM             4,369 Logging.ipynb\n",
      "04/19/2022  01:11 PM            15,606 loops_practice.ipynb\n",
      "05/03/2022  02:48 PM             4,611 modules.ipynb\n",
      "12/26/2021  10:04 PM    <DIR>          Music\n",
      "05/03/2022  02:52 PM                30 new1.py\n",
      "05/03/2022  12:59 PM    <DIR>          OneDrive\n",
      "12/26/2021  10:04 PM    <DIR>          Saved Games\n",
      "12/26/2021  10:06 PM    <DIR>          Searches\n",
      "04/22/2022  03:45 PM            48,395 string_list_day2.ipynb\n",
      "04/29/2022  05:08 PM             1,609 test.log\n",
      "04/28/2022  12:33 PM               228 test1.txt\n",
      "04/29/2022  11:24 AM               213 test2.log\n",
      "04/28/2022  12:13 PM                50 test2.txt\n",
      "04/30/2022  09:15 AM               131 test3.log\n",
      "04/28/2022  02:13 PM                91 test3.txt\n",
      "04/29/2022  08:58 AM                 0 test43.txt\n",
      "04/29/2022  08:50 AM                19 test5.txt\n",
      "04/29/2022  05:08 PM               241 test6.log\n",
      "01/22/2022  12:41 AM    <DIR>          Tracing\n",
      "04/22/2022  03:46 PM            39,937 tuples_set_dict_day3.ipynb\n",
      "01/03/2022  11:11 AM    <DIR>          Videos\n",
      "              27 File(s)        333,977 bytes\n",
      "              18 Dir(s)  70,999,564,288 bytes free\n"
     ]
    }
   ],
   "source": [
    "ls"
   ]
  },
  {
   "cell_type": "code",
   "execution_count": 1,
   "id": "3dbe44e4",
   "metadata": {},
   "outputs": [],
   "source": [
    "import new1"
   ]
  },
  {
   "cell_type": "code",
   "execution_count": 2,
   "id": "23e4c5fb",
   "metadata": {},
   "outputs": [
    {
     "data": {
      "text/plain": [
       "36"
      ]
     },
     "execution_count": 2,
     "metadata": {},
     "output_type": "execute_result"
    }
   ],
   "source": [
    "new1.test(9,4)"
   ]
  },
  {
   "cell_type": "code",
   "execution_count": 3,
   "id": "dd44d4dc",
   "metadata": {},
   "outputs": [
    {
     "data": {
      "text/plain": [
       "9"
      ]
     },
     "execution_count": 3,
     "metadata": {},
     "output_type": "execute_result"
    }
   ],
   "source": [
    "new1.test1(4,5)"
   ]
  },
  {
   "cell_type": "code",
   "execution_count": 1,
   "id": "e303bf7a",
   "metadata": {},
   "outputs": [],
   "source": [
    "from new1 import test2"
   ]
  },
  {
   "cell_type": "code",
   "execution_count": 2,
   "id": "2bda25d4",
   "metadata": {},
   "outputs": [
    {
     "name": "stdout",
     "output_type": "stream",
     "text": [
      "This is not fare!\n"
     ]
    }
   ],
   "source": [
    "test2()"
   ]
  },
  {
   "cell_type": "code",
   "execution_count": 6,
   "id": "a2215ef2",
   "metadata": {},
   "outputs": [],
   "source": [
    "from new1 import *"
   ]
  },
  {
   "cell_type": "code",
   "execution_count": 7,
   "id": "1ce47b90",
   "metadata": {},
   "outputs": [
    {
     "data": {
      "text/plain": [
       "27"
      ]
     },
     "execution_count": 7,
     "metadata": {},
     "output_type": "execute_result"
    }
   ],
   "source": [
    "test(3,9)"
   ]
  },
  {
   "cell_type": "code",
   "execution_count": 8,
   "id": "d91c3031",
   "metadata": {},
   "outputs": [
    {
     "data": {
      "text/plain": [
       "16"
      ]
     },
     "execution_count": 8,
     "metadata": {},
     "output_type": "execute_result"
    }
   ],
   "source": [
    "test1(7,9)"
   ]
  },
  {
   "cell_type": "code",
   "execution_count": 9,
   "id": "a431886d",
   "metadata": {},
   "outputs": [
    {
     "name": "stdout",
     "output_type": "stream",
     "text": [
      "This is not fare!\n"
     ]
    }
   ],
   "source": [
    "test2()"
   ]
  },
  {
   "cell_type": "code",
   "execution_count": 17,
   "id": "3c199707",
   "metadata": {},
   "outputs": [
    {
     "data": {
      "text/plain": [
       "<_io.TextIOWrapper name='my_modules (2).py' mode='w' encoding='cp1252'>"
      ]
     },
     "execution_count": 17,
     "metadata": {},
     "output_type": "execute_result"
    }
   ],
   "source": [
    "open(\"my_modules (2).py\",\"w\")"
   ]
  },
  {
   "cell_type": "code",
   "execution_count": 18,
   "id": "280e7fa4",
   "metadata": {},
   "outputs": [],
   "source": [
    "import my_modules"
   ]
  },
  {
   "cell_type": "code",
   "execution_count": 19,
   "id": "0419dc23",
   "metadata": {},
   "outputs": [
    {
     "ename": "AttributeError",
     "evalue": "module 'my_modules' has no attribute 'greet'",
     "output_type": "error",
     "traceback": [
      "\u001b[1;31m---------------------------------------------------------------------------\u001b[0m",
      "\u001b[1;31mAttributeError\u001b[0m                            Traceback (most recent call last)",
      "\u001b[1;32m~\\AppData\\Local\\Temp/ipykernel_6820/214526744.py\u001b[0m in \u001b[0;36m<module>\u001b[1;34m\u001b[0m\n\u001b[1;32m----> 1\u001b[1;33m \u001b[0mmy_modules\u001b[0m\u001b[1;33m.\u001b[0m\u001b[0mgreet\u001b[0m\u001b[1;33m\u001b[0m\u001b[1;33m\u001b[0m\u001b[0m\n\u001b[0m",
      "\u001b[1;31mAttributeError\u001b[0m: module 'my_modules' has no attribute 'greet'"
     ]
    }
   ],
   "source": [
    "my_modules.greet"
   ]
  },
  {
   "cell_type": "code",
   "execution_count": null,
   "id": "60c8dec8",
   "metadata": {},
   "outputs": [],
   "source": []
  }
 ],
 "metadata": {
  "kernelspec": {
   "display_name": "Python 3 (ipykernel)",
   "language": "python",
   "name": "python3"
  },
  "language_info": {
   "codemirror_mode": {
    "name": "ipython",
    "version": 3
   },
   "file_extension": ".py",
   "mimetype": "text/x-python",
   "name": "python",
   "nbconvert_exporter": "python",
   "pygments_lexer": "ipython3",
   "version": "3.9.7"
  }
 },
 "nbformat": 4,
 "nbformat_minor": 5
}
