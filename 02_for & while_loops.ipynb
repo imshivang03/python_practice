{
 "cells": [
  {
   "cell_type": "code",
   "execution_count": null,
   "id": "f09ffc7f",
   "metadata": {},
   "outputs": [],
   "source": [
    "l = [\"name\" , \"emialid\" , \"phoneno\" , \"address\"]\n",
    "for i in l :\n",
    "    print(i + \"sudh\")"
   ]
  },
  {
   "cell_type": "code",
   "execution_count": null,
   "id": "e9609027",
   "metadata": {},
   "outputs": [],
   "source": [
    "s = \"ineuron\"\n",
    "for i in s :\n",
    "    print(i)"
   ]
  },
  {
   "cell_type": "code",
   "execution_count": null,
   "id": "3e2eb750",
   "metadata": {},
   "outputs": [],
   "source": [
    "for i in l :\n",
    "    if i == \"emialid\":\n",
    "        break\n",
    "    print(i)\n",
    "else :\n",
    "    print(\"check this statemnt \")"
   ]
  },
  {
   "cell_type": "code",
   "execution_count": null,
   "id": "267f63b7",
   "metadata": {},
   "outputs": [],
   "source": [
    "l"
   ]
  },
  {
   "cell_type": "code",
   "execution_count": null,
   "id": "31793b3b",
   "metadata": {},
   "outputs": [],
   "source": [
    "s= \"shivang\"\n",
    "for i in s:\n",
    "    if i==\"i\":\n",
    "        continue\n",
    "    print(i)\n",
    "else:\n",
    "    print (\"loop executed successfully\")"
   ]
  },
  {
   "cell_type": "code",
   "execution_count": null,
   "id": "55c9a0f1",
   "metadata": {},
   "outputs": [],
   "source": [
    "a = 1\n",
    "while a < 10:\n",
    "    print (a)\n",
    "    a=a+2"
   ]
  },
  {
   "cell_type": "code",
   "execution_count": null,
   "id": "4b10624b",
   "metadata": {},
   "outputs": [],
   "source": [
    "a = 1 \n",
    "while a < 5 :\n",
    "    print(a)\n",
    "    a = a + 1\n",
    "    if a == 3:\n",
    "        continue\n",
    "    \n",
    "    "
   ]
  },
  {
   "cell_type": "code",
   "execution_count": null,
   "id": "db42c818",
   "metadata": {},
   "outputs": [],
   "source": [
    "while a < 5 :\n",
    "    pass"
   ]
  },
  {
   "cell_type": "code",
   "execution_count": null,
   "id": "7a59dcf3",
   "metadata": {
    "scrolled": true
   },
   "outputs": [],
   "source": [
    "l = [\"name\" , \"emialid\" , \"phoneno\" , \"address\"]\n",
    "for i in l :\n",
    "    pass"
   ]
  },
  {
   "cell_type": "code",
   "execution_count": null,
   "id": "e779f3bf",
   "metadata": {},
   "outputs": [],
   "source": [
    "a = 1\n",
    "while a < 4 :\n",
    "    print (a)\n",
    "    continue"
   ]
  },
  {
   "cell_type": "code",
   "execution_count": null,
   "id": "2012f21a",
   "metadata": {},
   "outputs": [],
   "source": [
    "list(range(6))"
   ]
  },
  {
   "cell_type": "code",
   "execution_count": null,
   "id": "398106bb",
   "metadata": {},
   "outputs": [],
   "source": [
    "list(range(0,7))"
   ]
  },
  {
   "cell_type": "code",
   "execution_count": null,
   "id": "b12244a2",
   "metadata": {},
   "outputs": [],
   "source": [
    "list(range(3 , 10 , 2))"
   ]
  },
  {
   "cell_type": "code",
   "execution_count": null,
   "id": "06ffb2e3",
   "metadata": {},
   "outputs": [],
   "source": [
    "list(range(3 , 10 , -1))"
   ]
  },
  {
   "cell_type": "code",
   "execution_count": null,
   "id": "a2089c37",
   "metadata": {},
   "outputs": [],
   "source": [
    "list(range(10, 2 , -2))"
   ]
  },
  {
   "cell_type": "code",
   "execution_count": null,
   "id": "58c2d33f",
   "metadata": {},
   "outputs": [],
   "source": [
    "list(range(10 , -5 , -2))"
   ]
  },
  {
   "cell_type": "code",
   "execution_count": null,
   "id": "857335e5",
   "metadata": {},
   "outputs": [],
   "source": [
    "for i in range(10 , -5 , -2):\n",
    "    print(i)"
   ]
  },
  {
   "cell_type": "code",
   "execution_count": 7,
   "id": "2e8383dd",
   "metadata": {},
   "outputs": [
    {
     "name": "stdout",
     "output_type": "stream",
     "text": [
      "* \n",
      "\n",
      "* * \n",
      "\n",
      "* * * \n",
      "\n",
      "* * * * \n",
      "\n",
      "* * * * * \n",
      "\n"
     ]
    }
   ],
   "source": [
    "n = 5\n",
    "for i in range (n):\n",
    "    for j in range (i+1):\n",
    "        print(\"* \", end=\"\")\n",
    "    print(\"\\n\")"
   ]
  },
  {
   "cell_type": "code",
   "execution_count": 13,
   "id": "d6b39d04",
   "metadata": {},
   "outputs": [
    {
     "name": "stdout",
     "output_type": "stream",
     "text": [
      "\r\n",
      "Shivang \r\n",
      "Shivang Shivang \r\n",
      "Shivang Shivang Shivang \r\n",
      "Shivang Shivang Shivang Shivang \r\n"
     ]
    }
   ],
   "source": [
    "n = 5\n",
    "for i in range (0,n):\n",
    "    for j in range (i):\n",
    "        print (\"Shivang\", end=\" \")\n",
    "    print(\"\\r\")"
   ]
  },
  {
   "cell_type": "code",
   "execution_count": 14,
   "id": "a5c5d6bf",
   "metadata": {},
   "outputs": [
    {
     "name": "stdout",
     "output_type": "stream",
     "text": [
      "0 3\n",
      "1 4\n",
      "2 4\n",
      "3 5\n",
      "4 6\n",
      "5 7\n",
      "6 7\n"
     ]
    }
   ],
   "source": [
    "t = (3,4,4,5,6,7,7)\n",
    "for i in range(len(t)):\n",
    "    print(i ,t[i] )"
   ]
  },
  {
   "cell_type": "code",
   "execution_count": 16,
   "id": "af248444",
   "metadata": {},
   "outputs": [
    {
     "name": "stdout",
     "output_type": "stream",
     "text": [
      "7\n",
      "7\n",
      "6\n",
      "5\n",
      "4\n",
      "4\n",
      "3\n"
     ]
    }
   ],
   "source": [
    "t = (3, 4, 4, 5, 6, 7, 7)\n",
    "for i in range(len(t)-1, -1, -1):\n",
    "    print (t[i])"
   ]
  },
  {
   "cell_type": "code",
   "execution_count": 17,
   "id": "b68c0d0c",
   "metadata": {},
   "outputs": [
    {
     "data": {
      "text/plain": [
       "(7, 7, 6, 5, 4, 4, 3)"
      ]
     },
     "execution_count": 17,
     "metadata": {},
     "output_type": "execute_result"
    }
   ],
   "source": [
    "t[::-1]"
   ]
  },
  {
   "cell_type": "code",
   "execution_count": 18,
   "id": "7706d655",
   "metadata": {},
   "outputs": [],
   "source": [
    "d = {\"a \" : \"fsdfds\" , \"b \" : \"fsdfsaf\" , \"c \" :[1,2,3,4,5] , \"d\" : (4,5,6,7)  , \"e\":\"sudh\"}"
   ]
  },
  {
   "cell_type": "code",
   "execution_count": 19,
   "id": "b3538378",
   "metadata": {},
   "outputs": [
    {
     "data": {
      "text/plain": [
       "{'a ': 'fsdfds',\n",
       " 'b ': 'fsdfsaf',\n",
       " 'c ': [1, 2, 3, 4, 5],\n",
       " 'd': (4, 5, 6, 7),\n",
       " 'e': 'sudh'}"
      ]
     },
     "execution_count": 19,
     "metadata": {},
     "output_type": "execute_result"
    }
   ],
   "source": [
    "d"
   ]
  },
  {
   "cell_type": "code",
   "execution_count": 20,
   "id": "f8b3b9ca",
   "metadata": {},
   "outputs": [
    {
     "name": "stdout",
     "output_type": "stream",
     "text": [
      "a  fsdfds\n",
      "b  fsdfsaf\n",
      "c  [1, 2, 3, 4, 5]\n",
      "d (4, 5, 6, 7)\n",
      "e sudh\n"
     ]
    }
   ],
   "source": [
    "for i in d:\n",
    "    print (i, d[i])"
   ]
  },
  {
   "cell_type": "code",
   "execution_count": 22,
   "id": "125115cd",
   "metadata": {},
   "outputs": [
    {
     "data": {
      "text/plain": [
       "dict_items([('a ', 'fsdfds'), ('b ', 'fsdfsaf'), ('c ', [1, 2, 3, 4, 5]), ('d', (4, 5, 6, 7)), ('e', 'sudh')])"
      ]
     },
     "execution_count": 22,
     "metadata": {},
     "output_type": "execute_result"
    }
   ],
   "source": [
    "d.items()"
   ]
  },
  {
   "cell_type": "code",
   "execution_count": 23,
   "id": "a08cef03",
   "metadata": {
    "scrolled": true
   },
   "outputs": [
    {
     "name": "stdout",
     "output_type": "stream",
     "text": [
      "('a ', 'fsdfds')\n",
      "('b ', 'fsdfsaf')\n",
      "('c ', [1, 2, 3, 4, 5])\n",
      "('d', (4, 5, 6, 7))\n",
      "('e', 'sudh')\n"
     ]
    }
   ],
   "source": [
    "for i in d.items():\n",
    "    print(i)"
   ]
  },
  {
   "cell_type": "code",
   "execution_count": 24,
   "id": "5d0af0ec",
   "metadata": {},
   "outputs": [],
   "source": [
    "s= {3,546,56,56,56,5,66,7,67,6,7,3,43,534,53,5,7}"
   ]
  },
  {
   "cell_type": "code",
   "execution_count": 28,
   "id": "ac27439a",
   "metadata": {},
   "outputs": [
    {
     "name": "stdout",
     "output_type": "stream",
     "text": [
      "66\n",
      "67\n",
      "3\n",
      "546\n",
      "5\n",
      "7\n",
      "6\n",
      "43\n",
      "53\n",
      "534\n",
      "56\n"
     ]
    }
   ],
   "source": [
    "for i in s :\n",
    "    print(i)"
   ]
  }
 ],
 "metadata": {
  "kernelspec": {
   "display_name": "Python 3 (ipykernel)",
   "language": "python",
   "name": "python3"
  },
  "language_info": {
   "codemirror_mode": {
    "name": "ipython",
    "version": 3
   },
   "file_extension": ".py",
   "mimetype": "text/x-python",
   "name": "python",
   "nbconvert_exporter": "python",
   "pygments_lexer": "ipython3",
   "version": "3.9.7"
  }
 },
 "nbformat": 4,
 "nbformat_minor": 5
}
