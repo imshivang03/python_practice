{
 "cells": [
  {
   "cell_type": "code",
   "execution_count": 2,
   "id": "6332a0e0",
   "metadata": {},
   "outputs": [
    {
     "name": "stdout",
     "output_type": "stream",
     "text": [
      "Collecting mysql-connector-python\n",
      "  Downloading mysql_connector_python-8.0.31-cp39-cp39-win_amd64.whl (7.9 MB)\n",
      "Collecting protobuf<=3.20.1,>=3.11.0\n",
      "  Downloading protobuf-3.20.1-cp39-cp39-win_amd64.whl (904 kB)\n",
      "Installing collected packages: protobuf, mysql-connector-python\n",
      "Successfully installed mysql-connector-python-8.0.31 protobuf-3.20.1\n"
     ]
    }
   ],
   "source": [
    "!pip install mysql-connector-python"
   ]
  },
  {
   "cell_type": "code",
   "execution_count": 6,
   "id": "ebe9bef1",
   "metadata": {},
   "outputs": [
    {
     "name": "stdout",
     "output_type": "stream",
     "text": [
      "Requirement already satisfied: mysql-connector-python in c:\\users\\shiva\\anaconda3\\lib\\site-packages (8.0.31)\n",
      "Requirement already satisfied: protobuf<=3.20.1,>=3.11.0 in c:\\users\\shiva\\anaconda3\\lib\\site-packages (from mysql-connector-python) (3.20.1)\n"
     ]
    }
   ],
   "source": [
    "!pip install mysql-connector-python"
   ]
  },
  {
   "cell_type": "code",
   "execution_count": 14,
   "id": "828e4d60",
   "metadata": {
    "scrolled": true
   },
   "outputs": [
    {
     "name": "stdout",
     "output_type": "stream",
     "text": [
      "<mysql.connector.connection.MySQLConnection object at 0x0000027A3FCC0310>\n",
      "<class 'mysql.connector.cursor.MySQLCursor'>\n",
      "[('information_schema',), ('mysql',), ('performance_schema',), ('shivang',), ('sys',)]\n",
      "information_schema\n",
      "mysql\n",
      "performance_schema\n",
      "shivang\n",
      "sys\n"
     ]
    }
   ],
   "source": [
    "import mysql.connector as connection\n",
    "\n",
    "try:\n",
    "    mydb= connection.connect(host= \"127.0.0.1\", user= \"root\", passwd= \"1q2q3e4e\", use_pure= True)\n",
    "    print(mydb)\n",
    "    \n",
    "    query= \"SHOW DATABASES\"\n",
    "    \n",
    "    cursor= mydb.cursor()\n",
    "    cursor.execute(query)\n",
    "    print(type(cursor))\n",
    "    res= cursor.fetchall()\n",
    "    print(res)\n",
    "    for row in res:\n",
    "        print(row[0])\n",
    "    #cursor.fetchall()\n",
    "\n",
    "except Exception as e:\n",
    "    mydb.close()\n",
    "    print(str(e))"
   ]
  },
  {
   "cell_type": "code",
   "execution_count": 35,
   "id": "3c73800a",
   "metadata": {},
   "outputs": [
    {
     "name": "stdout",
     "output_type": "stream",
     "text": [
      "<mysql.connector.connection.MySQLConnection object at 0x0000021211D7B250>\n",
      "query executed\n"
     ]
    }
   ],
   "source": [
    "import mysql.connector as connection\n",
    "\n",
    "try:\n",
    "    mydb= connection.connect(host= \"127.0.0.1\", user= \"root\", passwd= \"1q2q3e4e\", use_pure= True)\n",
    "    print(mydb)\n",
    "    \n",
    "    query= \"create database shivang\"\n",
    "    \n",
    "    cursor= mydb.cursor()\n",
    "    cursor.execute(query)\n",
    "    print(\"query executed\")\n",
    "\n",
    "except Exception as e:\n",
    "    mydb.close()\n",
    "    print(str(e))"
   ]
  },
  {
   "cell_type": "code",
   "execution_count": 45,
   "id": "60e29bd1",
   "metadata": {},
   "outputs": [
    {
     "name": "stdout",
     "output_type": "stream",
     "text": [
      "True\n",
      "query executed successfully!\n"
     ]
    }
   ],
   "source": [
    "import mysql.connector as connection \n",
    "\n",
    "try:\n",
    "    mydb= connection.connect(host= \"127.0.0.1\", user= \"root\", passwd= \"1q2q3e4e\", database= \"shivang\", use_pure= True)\n",
    "    print(mydb.is_connected())\n",
    "    query= \"CREATE TABLE Test (StudentID INT(5) AUTO_INCREMENT PRIMARY KEY, FirstName VARCHAR(15), LastName VARCHAR(15),\"\\\n",
    "           \"RegistrationDate DATE, Class VARCHAR(15), Section VARCHAR(15))\"\n",
    "    \n",
    "    cursor= mydb.cursor()\n",
    "    cursor.execute(query)\n",
    "    print(\"query executed successfully!\")\n",
    "    mydb.close()\n",
    "    \n",
    "except Exception as e:\n",
    "    mydb.close()\n",
    "    print(str(e))"
   ]
  },
  {
   "cell_type": "code",
   "execution_count": 52,
   "id": "f4dceb03",
   "metadata": {},
   "outputs": [
    {
     "name": "stdout",
     "output_type": "stream",
     "text": [
      "True\n",
      "Query executed successfully!!!\n",
      "Committed successfully!!!\n"
     ]
    }
   ],
   "source": [
    "import mysql.connector as connection\n",
    "\n",
    "try:\n",
    "    mydb= connection.connect(host= \"127.0.0.1\", user= \"root\", passwd= \"1q2q3e4e\", database= \"shivang\", use_pure= True)\n",
    "    print(mydb.is_connected())\n",
    "    query= \"INSERT INTO Test VALUES (202201, 'Shivang', 'Shahi', '2022-11-01', '12', 'A')\"\n",
    "    cursor= mydb.cursor()\n",
    "    cursor.execute(query)\n",
    "    print(\"Query executed successfully!!!\")\n",
    "    mydb.commit()\n",
    "    print(\"Committed successfully!!!\")\n",
    "    mydb.close()\n",
    "\n",
    "except Exception as e:\n",
    "    mydb.close()\n",
    "    print(str(e))"
   ]
  },
  {
   "cell_type": "code",
   "execution_count": 11,
   "id": "7ec331c4",
   "metadata": {},
   "outputs": [
    {
     "name": "stdout",
     "output_type": "stream",
     "text": [
      "True\n",
      "query executed successfully!!!\n",
      "[(202201, 'Shivang', 'Shahi', datetime.date(2022, 11, 1), '12', 'A')]\n"
     ]
    }
   ],
   "source": [
    "import mysql.connector as connection\n",
    "\n",
    "try:\n",
    "    mydb= connection.connect(host= \"127.0.0.1\", user= \"root\", passwd= \"1q2q3e4e\", database= \"shivang\", use_pure= True)\n",
    "    print(mydb.is_connected())\n",
    "    query= \"select * from Test\"\n",
    "    cursor= mydb.cursor()\n",
    "    cursor.execute(query)\n",
    "    print(\"query executed successfully!!!\")\n",
    "    print(cursor.fetchall())\n",
    "    \"\"\"for res in cursor.fetchall():\n",
    "        print(res)\"\"\"\n",
    "    mydb.close()\n",
    "    \n",
    "except Exception as e:\n",
    "    mydb.close()\n",
    "    print(str(e))"
   ]
  },
  {
   "cell_type": "code",
   "execution_count": 6,
   "id": "9defc80b",
   "metadata": {},
   "outputs": [
    {
     "name": "stdout",
     "output_type": "stream",
     "text": [
      "True\n"
     ]
    }
   ],
   "source": [
    "mydb= connection.connect(host= \"127.0.0.1\", user= \"root\", passwd= \"1q2q3e4e\", database= \"shivang\", use_pure= True)\n",
    "print(mydb.is_connected())"
   ]
  },
  {
   "cell_type": "code",
   "execution_count": 7,
   "id": "07f0737d",
   "metadata": {},
   "outputs": [],
   "source": [
    "query= \"select * from Test\""
   ]
  },
  {
   "cell_type": "code",
   "execution_count": 8,
   "id": "dc952d3a",
   "metadata": {},
   "outputs": [],
   "source": [
    "cursor= mydb.cursor()"
   ]
  },
  {
   "cell_type": "code",
   "execution_count": 9,
   "id": "ff1fb2e7",
   "metadata": {},
   "outputs": [],
   "source": [
    "cursor.execute(query)"
   ]
  },
  {
   "cell_type": "code",
   "execution_count": 10,
   "id": "0a761752",
   "metadata": {},
   "outputs": [
    {
     "data": {
      "text/plain": [
       "[(202201, 'Shivang', 'Shahi', datetime.date(2022, 11, 1), '12', 'A')]"
      ]
     },
     "execution_count": 10,
     "metadata": {},
     "output_type": "execute_result"
    }
   ],
   "source": [
    "cursor.fetchall()"
   ]
  },
  {
   "cell_type": "code",
   "execution_count": 21,
   "id": "5476fc71",
   "metadata": {},
   "outputs": [],
   "source": [
    "mydb= connection.connect(host= \"127.0.0.1\", user= \"root\", passwd= \"1q2q3e4e\", database= \"shivang\", use_pure= True)\n",
    "cursor= mydb.cursor()\n",
    "cursor.execute(\"select StudentID, FirstName, LastName from Test\")"
   ]
  },
  {
   "cell_type": "code",
   "execution_count": 22,
   "id": "ae501c82",
   "metadata": {},
   "outputs": [
    {
     "name": "stdout",
     "output_type": "stream",
     "text": [
      "[(202201, 'Shivang', 'Shahi')]\n"
     ]
    }
   ],
   "source": [
    "res= cursor.fetchall()\n",
    "print(res)"
   ]
  },
  {
   "cell_type": "code",
   "execution_count": 23,
   "id": "f7e13496",
   "metadata": {},
   "outputs": [
    {
     "name": "stdout",
     "output_type": "stream",
     "text": [
      "(202201, 'Shivang', 'Shahi')\n"
     ]
    }
   ],
   "source": [
    "for i in res:\n",
    "    print (i)"
   ]
  },
  {
   "cell_type": "code",
   "execution_count": 35,
   "id": "f3edf728",
   "metadata": {},
   "outputs": [
    {
     "name": "stdout",
     "output_type": "stream",
     "text": [
      "<class 'pandas.core.frame.DataFrame'>\n",
      "   Unnamed: 0  StudentID FirstName LastName RegistrationDate  Class Section\n",
      "0           0     202201   Shivang    Shahi       2022-11-01     12       A\n"
     ]
    }
   ],
   "source": [
    "import mysql.connector as connection\n",
    "import pandas as pd\n",
    "\n",
    "try:\n",
    "    mydb= connection.connect(host= \"127.0.0.1\", user= \"root\", passwd= \"1q2q3e4e\", database= \"shivang\", use_pure= True)\n",
    "    result_dataframe= pd.read_sql(\"select * from Test\", mydb)\n",
    "    print (type(result_dataframe))\n",
    "    #print (result_dataframe)\n",
    "    result_dataframe.to_csv(\"my_data.csv\")\n",
    "    data= pd.read_csv(\"my_data.csv\")\n",
    "    print(data)\n",
    "    mydb.close()\n",
    "    \n",
    "except Exception as e:\n",
    "    mydb.close()\n",
    "    print(str(e))"
   ]
  },
  {
   "cell_type": "code",
   "execution_count": null,
   "id": "1e43e09a",
   "metadata": {},
   "outputs": [],
   "source": [
    "import mysql.connector as connection\n",
    "import pandas as pandas\n",
    "import csv\n",
    "\n",
    "try:\n",
    "    mydb = connection.connect(host=\"localhost\", user=\"root\", passwd=\"mysql\",use_pure=True)\n",
    "    #check if the connection is established\n",
    "    print(mydb.is_connected())\n",
    "    #create a new database\n",
    "    query = \"Create database GlassData;\"\n",
    "    cursor = mydb.cursor() #create a cursor to execute queries\n",
    "    cursor.execute(query)\n",
    "    print(\"Database Created!!\")\n",
    "    mydb.close() #close the connection\n",
    "\n",
    "    #Establish a new connection to the database created above\n",
    "    mydb = connection.connect(host=\"localhost\", database = 'GlassData',user=\"root\", passwd=\"mysql\", use_pure=True)\n",
    "\n",
    "    #create a new table to store glass data\n",
    "    query = \"CREATE TABLE IF NOT EXISTS GlassData (Index_Number INT(10),RI float(10,5), Na float(10,5), Mg float(10,5),Al float(10,5),\" \\\n",
    "            \" Si float(10,5), K float(10,5), Ca float(10,5), Ba float(10,5), Fe float(10,5), Class INT(5))\"\n",
    "    cursor = mydb.cursor()  # create a cursor to execute queries\n",
    "    cursor.execute(query)\n",
    "    print(\"Table Created!!\")\n",
    "\n",
    "    #read from the file\n",
    "    with open('glass.data', \"r\") as f:\n",
    "        next(f)\n",
    "        glass_data = csv.reader(f, delimiter=\"\\n\")\n",
    "        for line in enumerate(glass_data):\n",
    "            for list_ in (line[1]):\n",
    "                cursor.execute('INSERT INTO GlassData values ({values})'.format(values=(list_)))\n",
    "    print(\"Values inserted!!\")\n",
    "    mydb.commit()\n",
    "    cursor.close()\n",
    "    mydb.close()\n",
    "\n",
    "except Exception as e:\n",
    "    #mydb.close()\n",
    "    print(str(e))"
   ]
  },
  {
   "cell_type": "code",
   "execution_count": 131,
   "id": "cd9e5de5",
   "metadata": {},
   "outputs": [
    {
     "name": "stdout",
     "output_type": "stream",
     "text": [
      "Database created successfully!\n",
      "table created successfully!\n",
      "values inserted successfully!\n"
     ]
    }
   ],
   "source": [
    "##Code to insert a bulk of data to a database table from  a csv file.\n",
    "\n",
    "import mysql.connector as connection\n",
    "import pandas as pd\n",
    "import csv\n",
    "\n",
    "try:\n",
    "    mydb= connection.connect(host= \"127.0.0.1\", user= \"root\", passwd= \"1q2q3e4e\", use_pure=True)\n",
    "    query= \"drop database if exists glass_data\"\n",
    "    cursor= mydb.cursor()\n",
    "    cursor.execute(query)\n",
    "    query= \"Create database glass_Data\"\n",
    "    cursor.execute(query)\n",
    "    print(\"Database created successfully!\")\n",
    "    mydb.close()\n",
    "    \n",
    "    mydb= connection.connect(host=\"127.0.0.1\", user= \"root\", passwd= \"1q2q3e4e\", database= \"glass_data\", use_pure=True)\n",
    "    query = \"CREATE TABLE IF NOT EXISTS glass_data (Index_Number INT(10),RI float(10,5), Na float(10,5), Mg float(10,5),Al float(10,5),\" \\\n",
    "            \" Si float(10,5), K float(10,5), Ca float(10,5), Ba float(10,5), Fe float(10,5), Class INT(5))\"\n",
    "    cursor= mydb.cursor()\n",
    "    cursor.execute(query)\n",
    "    print(\"table created successfully!\")\n",
    "    \n",
    "    with open(\"glass.data\", \"r\") as f:\n",
    "        next(f)\n",
    "        ## file_csv is converting the data to list and without list we can't insert data to the database table.\n",
    "        file_csv= csv.reader(f, delimiter=\"\\n\")\n",
    "        for i in enumerate(file_csv):\n",
    "            for j in i[1]:\n",
    "                #print (j)\n",
    "                cursor.execute(\"insert into glass_data Values({values})\". format(values= (j)))\n",
    "    print (\"values inserted successfully!\")\n",
    "    mydb.commit()\n",
    "    cursor.close()\n",
    "    mydb.close()\n",
    "    \n",
    "except Exception as e:\n",
    "    mydb.close()\n",
    "    print(str(e))"
   ]
  },
  {
   "cell_type": "code",
   "execution_count": 101,
   "id": "a6f0e472",
   "metadata": {},
   "outputs": [
    {
     "name": "stdout",
     "output_type": "stream",
     "text": [
      "Database created successfully!\n"
     ]
    }
   ],
   "source": [
    "import mysql.connector as connection\n",
    "import pandas as pd\n",
    "import csv\n",
    "\n",
    "\n",
    "mydb= connection.connect(host= \"127.0.0.1\", user= \"root\", passwd= \"1q2q3e4e\", use_pure=True)\n",
    "cursor= mydb.cursor()\n",
    "query= \"Create database glassdata\"\n",
    "cursor.execute(query)\n",
    "print(\"Database created successfully!\")\n",
    "mydb.close()"
   ]
  },
  {
   "cell_type": "code",
   "execution_count": 102,
   "id": "cf8e97f3",
   "metadata": {},
   "outputs": [],
   "source": [
    "mydb= connection.connect(host=\"127.0.0.1\", user= \"root\", passwd= \"1q2q3e4e\", database= \"glassdata\", use_pure=True)\n",
    "query = \"CREATE TABLE IF NOT EXISTS glasstable (Index_Number INT(10),RI float(10,5), Na float(10,5), Mg float(10,5),Al float(10,5),\" \\\n",
    "            \"Si float(10,5), K float(10,5), Ca float(10,5), Ba float(10,5), Fe float(10,5), Class INT(5))\"\n",
    "cursor= mydb.cursor()\n",
    "cursor.execute(query)"
   ]
  },
  {
   "cell_type": "code",
   "execution_count": 47,
   "id": "2f479935",
   "metadata": {},
   "outputs": [
    {
     "ename": "TypeError",
     "evalue": "'int' object is not subscriptable",
     "output_type": "error",
     "traceback": [
      "\u001b[1;31m---------------------------------------------------------------------------\u001b[0m",
      "\u001b[1;31mTypeError\u001b[0m                                 Traceback (most recent call last)",
      "\u001b[1;32m~\\AppData\\Local\\Temp/ipykernel_4628/2904661836.py\u001b[0m in \u001b[0;36m<module>\u001b[1;34m\u001b[0m\n\u001b[0;32m      4\u001b[0m     \u001b[1;32mfor\u001b[0m \u001b[0mi\u001b[0m \u001b[1;32min\u001b[0m \u001b[0menumerate\u001b[0m\u001b[1;33m(\u001b[0m\u001b[0mfile_csv\u001b[0m\u001b[1;33m)\u001b[0m\u001b[1;33m:\u001b[0m\u001b[1;33m\u001b[0m\u001b[1;33m\u001b[0m\u001b[0m\n\u001b[0;32m      5\u001b[0m         \u001b[1;32mfor\u001b[0m \u001b[0mj\u001b[0m \u001b[1;32min\u001b[0m \u001b[0mi\u001b[0m\u001b[1;33m:\u001b[0m\u001b[1;33m\u001b[0m\u001b[1;33m\u001b[0m\u001b[0m\n\u001b[1;32m----> 6\u001b[1;33m             \u001b[0mcursor\u001b[0m\u001b[1;33m.\u001b[0m\u001b[0mexecute\u001b[0m\u001b[1;33m(\u001b[0m\u001b[1;34m\"insert into Glassdata Values({values})\"\u001b[0m\u001b[1;33m.\u001b[0m \u001b[0mformat\u001b[0m\u001b[1;33m(\u001b[0m\u001b[0mvalues\u001b[0m\u001b[1;33m=\u001b[0m \u001b[0mj\u001b[0m\u001b[1;33m[\u001b[0m\u001b[1;36m1\u001b[0m\u001b[1;33m]\u001b[0m\u001b[1;33m)\u001b[0m\u001b[1;33m)\u001b[0m\u001b[1;33m\u001b[0m\u001b[1;33m\u001b[0m\u001b[0m\n\u001b[0m\u001b[0;32m      7\u001b[0m \u001b[0mprint\u001b[0m \u001b[1;33m(\u001b[0m\u001b[1;34m\"values inserted successfully\"\u001b[0m\u001b[1;33m)\u001b[0m\u001b[1;33m\u001b[0m\u001b[1;33m\u001b[0m\u001b[0m\n",
      "\u001b[1;31mTypeError\u001b[0m: 'int' object is not subscriptable"
     ]
    }
   ],
   "source": [
    "with open(\"glass.data\", \"r\") as f:\n",
    "    next(f)\n",
    "    file_csv= csv.reader(f, delimiter=\"\\n\")\n",
    "    for i in enumerate(file_csv):\n",
    "        for j in i:\n",
    "            cursor.execute('INSERT INTO glassdata VALUES ({values})'. format(values= j[1]))\n",
    "print (\"values inserted successfully\")"
   ]
  },
  {
   "cell_type": "code",
   "execution_count": 111,
   "id": "c287a540",
   "metadata": {},
   "outputs": [
    {
     "name": "stdout",
     "output_type": "stream",
     "text": [
      "True\n",
      "inserted successfully!\n"
     ]
    }
   ],
   "source": [
    "cursor= mydb.cursor()\n",
    "print (mydb.is_connected())\n",
    "with open('glass.data', \"r\") as f:\n",
    "    next(f)\n",
    "    glass_data = csv.reader(f, delimiter=\"\\n\")\n",
    "    for i in glass_data:\n",
    "        for j in i:\n",
    "            cursor.execute(\"Insert into glasstable Values({values})\". format(values=j))\n",
    "            \n",
    "print(\"inserted successfully!\")\n",
    "mydb.commit()\n",
    "cursor.close()\n",
    "mydb.close()    "
   ]
  }
 ],
 "metadata": {
  "kernelspec": {
   "display_name": "Python 3 (ipykernel)",
   "language": "python",
   "name": "python3"
  },
  "language_info": {
   "codemirror_mode": {
    "name": "ipython",
    "version": 3
   },
   "file_extension": ".py",
   "mimetype": "text/x-python",
   "name": "python",
   "nbconvert_exporter": "python",
   "pygments_lexer": "ipython3",
   "version": "3.9.7"
  }
 },
 "nbformat": 4,
 "nbformat_minor": 5
}
