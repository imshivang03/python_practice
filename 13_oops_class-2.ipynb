{
 "cells": [
  {
   "cell_type": "code",
   "execution_count": 1,
   "id": "bcbaa088",
   "metadata": {},
   "outputs": [],
   "source": [
    "class xyz:\n",
    "    \n",
    "    def __init__(self, a, b, c):\n",
    "        self.a= a\n",
    "        self.b= b\n",
    "        self.c= c\n",
    "        \n",
    "    def test(self):\n",
    "        print(\"This is my first test method of class xyz\")\n",
    "        \n",
    "    def test1(self):\n",
    "        print(\"This is my second test method of class xyz\")\n",
    "        \n",
    "    def test2(self):\n",
    "        print(\"This is my third test method of class xyz\")"
   ]
  },
  {
   "cell_type": "code",
   "execution_count": 2,
   "id": "cb47e23a",
   "metadata": {},
   "outputs": [],
   "source": [
    "q= xyz(4,5,6)"
   ]
  },
  {
   "cell_type": "code",
   "execution_count": 3,
   "id": "1f973661",
   "metadata": {},
   "outputs": [
    {
     "name": "stdout",
     "output_type": "stream",
     "text": [
      "This is my first test method of class xyz\n",
      "This is my second test method of class xyz\n",
      "This is my third test method of class xyz\n"
     ]
    }
   ],
   "source": [
    "q.test()\n",
    "q.test1()\n",
    "q.test2()"
   ]
  },
  {
   "cell_type": "code",
   "execution_count": 4,
   "id": "5ce446ae",
   "metadata": {},
   "outputs": [],
   "source": [
    "class xyz1(xyz):\n",
    "    pass"
   ]
  },
  {
   "cell_type": "code",
   "execution_count": 6,
   "id": "8156b816",
   "metadata": {},
   "outputs": [],
   "source": [
    "r= xyz1(1,2,3)"
   ]
  },
  {
   "cell_type": "code",
   "execution_count": 7,
   "id": "5badd99b",
   "metadata": {},
   "outputs": [
    {
     "name": "stdout",
     "output_type": "stream",
     "text": [
      "This is my second test method of class xyz\n"
     ]
    }
   ],
   "source": [
    "r.test1()"
   ]
  },
  {
   "cell_type": "code",
   "execution_count": 8,
   "id": "f5d415de",
   "metadata": {},
   "outputs": [],
   "source": [
    "class xyz1(xyz) :\n",
    "    def test(self) :\n",
    "        print(\"this is a test meth aviable in xyz1\")"
   ]
  },
  {
   "cell_type": "code",
   "execution_count": 9,
   "id": "e98792c0",
   "metadata": {},
   "outputs": [],
   "source": [
    "g = xyz1(4,5,6)"
   ]
  },
  {
   "cell_type": "code",
   "execution_count": 10,
   "id": "460de611",
   "metadata": {},
   "outputs": [
    {
     "name": "stdout",
     "output_type": "stream",
     "text": [
      "this is a test meth aviable in xyz1\n"
     ]
    }
   ],
   "source": [
    "g.test()"
   ]
  },
  {
   "cell_type": "code",
   "execution_count": null,
   "id": "156384d2",
   "metadata": {},
   "outputs": [],
   "source": []
  }
 ],
 "metadata": {
  "kernelspec": {
   "display_name": "Python 3 (ipykernel)",
   "language": "python",
   "name": "python3"
  },
  "language_info": {
   "codemirror_mode": {
    "name": "ipython",
    "version": 3
   },
   "file_extension": ".py",
   "mimetype": "text/x-python",
   "name": "python",
   "nbconvert_exporter": "python",
   "pygments_lexer": "ipython3",
   "version": "3.9.7"
  }
 },
 "nbformat": 4,
 "nbformat_minor": 5
}
