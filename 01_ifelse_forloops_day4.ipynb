{
 "cells": [
  {
   "cell_type": "code",
   "execution_count": 1,
   "id": "fe7a0414",
   "metadata": {},
   "outputs": [],
   "source": [
    "a = 10 "
   ]
  },
  {
   "cell_type": "code",
   "execution_count": 2,
   "id": "4acf7079",
   "metadata": {},
   "outputs": [],
   "source": [
    "if a < 15:\n",
    "    pass\n",
    "    "
   ]
  },
  {
   "cell_type": "code",
   "execution_count": 3,
   "id": "b1fc7ed8",
   "metadata": {},
   "outputs": [
    {
     "data": {
      "text/plain": [
       "True"
      ]
     },
     "execution_count": 3,
     "metadata": {},
     "output_type": "execute_result"
    }
   ],
   "source": [
    "a < 15"
   ]
  },
  {
   "cell_type": "code",
   "execution_count": 4,
   "id": "d4ba6b7f",
   "metadata": {},
   "outputs": [
    {
     "name": "stdout",
     "output_type": "stream",
     "text": [
      "my name is sudh\n"
     ]
    }
   ],
   "source": [
    "if a < 15 :\n",
    "    print(\"my name is sudh\")"
   ]
  },
  {
   "cell_type": "code",
   "execution_count": 10,
   "id": "0c9d79a4",
   "metadata": {},
   "outputs": [],
   "source": [
    "if 24 < 15 :\n",
    "    print(\"my name is sudh\")"
   ]
  },
  {
   "cell_type": "code",
   "execution_count": 11,
   "id": "cff388d1",
   "metadata": {},
   "outputs": [
    {
     "data": {
      "text/plain": [
       "False"
      ]
     },
     "execution_count": 11,
     "metadata": {},
     "output_type": "execute_result"
    }
   ],
   "source": [
    "24<15"
   ]
  },
  {
   "cell_type": "code",
   "execution_count": 12,
   "id": "64d5ed9f",
   "metadata": {},
   "outputs": [
    {
     "name": "stdout",
     "output_type": "stream",
     "text": [
      " 10 is lesser then 3 \n"
     ]
    }
   ],
   "source": [
    "if 5<10 :\n",
    "    print(\" 10 is lesser then 3 \")\n",
    "else :\n",
    "    print(\"if statemnt is wrong \")\n",
    "\n",
    "    "
   ]
  },
  {
   "cell_type": "code",
   "execution_count": 13,
   "id": "34996c21",
   "metadata": {},
   "outputs": [
    {
     "name": "stdout",
     "output_type": "stream",
     "text": [
      "10\n",
      "i will be able to buy phone\n"
     ]
    }
   ],
   "source": [
    "income = int(input())\n",
    "if income < 50:\n",
    "    print(\"i will be able to buy phone\")\n",
    "elif income < 70 :\n",
    "    print(\"i will be able to buy car \")\n",
    "elif  income < 90 :\n",
    "    print(\"i will be able to rent a house \")\n",
    "else :\n",
    "    print(\"i wont be able to buy anything\")"
   ]
  },
  {
   "cell_type": "code",
   "execution_count": 3,
   "id": "b17d68d8",
   "metadata": {},
   "outputs": [
    {
     "name": "stdout",
     "output_type": "stream",
     "text": [
      "8000\n",
      "wont be able to give any discount \n"
     ]
    }
   ],
   "source": [
    "Total_price = int(input())\n",
    "if Total_price  > 20000 :\n",
    "    discount = Total_price * .20\n",
    "    print(\"Discount will be \" , discount)\n",
    "elif Total_price <= 7000 :\n",
    "    discount = Total_price *.05\n",
    "    print(\"dicount will be \" , discount)\n",
    "else :\n",
    "    print( \"wont be able to give any discount \")"
   ]
  },
  {
   "cell_type": "code",
   "execution_count": 7,
   "id": "c54a60f0",
   "metadata": {},
   "outputs": [
    {
     "name": "stdout",
     "output_type": "stream",
     "text": [
      "Shivang10\n",
      "you will be getting 10% of discount\n",
      "you need to pay 9000.0\n"
     ]
    }
   ],
   "source": [
    "coup = input()\n",
    "if coup == \"Shivang10\":\n",
    "    print(\"you will be getting 10% of discount\")\n",
    "    disc_price = 10000 - 10000 *.10\n",
    "    print(\"you need to pay\", disc_price)\n",
    "else:\n",
    "    print(\"please enter a valid coupon\")\n"
   ]
  },
  {
   "cell_type": "code",
   "execution_count": 10,
   "id": "ca53eae6",
   "metadata": {},
   "outputs": [
    {
     "name": "stdout",
     "output_type": "stream",
     "text": [
      "1\n",
      "you will not be able to make the transition\n"
     ]
    }
   ],
   "source": [
    "study_hour= int(input())\n",
    "if study_hour >= 2:\n",
    "    print(\"It will take more than 10 months to complete the program\")\n",
    "elif study_hour > 2 and study_hour < 10:\n",
    "    print(\"easy for you to complete the proram in less than 5 months\")\n",
    "elif study_hour > 10:\n",
    "    print(\"you will make the transition in less than 3 months\")\n",
    "else:\n",
    "    print(\"you will not be able to make the transition\")"
   ]
  },
  {
   "cell_type": "code",
   "execution_count": 11,
   "id": "257ab680",
   "metadata": {},
   "outputs": [
    {
     "name": "stdout",
     "output_type": "stream",
     "text": [
      "6\n",
      "it will be difficult \n"
     ]
    }
   ],
   "source": [
    "study_hour = int(input())\n",
    "if study_hour < 1:\n",
    "    print(\"it may take  8- 9 month of time to make a transitino \")\n",
    "elif study_hour < 4 and  study_hour > 1:\n",
    "    print(\"it may take 6 month for transition\")\n",
    "elif study_hour > 10 :\n",
    "    print(\" it will take 3 month of time for transition \")\n",
    "else :\n",
    "    print(\"it will be difficult \")"
   ]
  },
  {
   "cell_type": "code",
   "execution_count": 12,
   "id": "8ff4c7e8",
   "metadata": {},
   "outputs": [
    {
     "name": "stdout",
     "output_type": "stream",
     "text": [
      "valid\n"
     ]
    }
   ],
   "source": [
    "a = 9 \n",
    "if a == 9 : print(\"valid\")"
   ]
  },
  {
   "cell_type": "code",
   "execution_count": 13,
   "id": "09084b73",
   "metadata": {},
   "outputs": [
    {
     "name": "stdout",
     "output_type": "stream",
     "text": [
      "enter a string to start oneneuronservice\n",
      "enter a course name DSA\n",
      "enter a service name workwithus\n",
      "*NOTE: Dear Learner, you can raise the demand to work with our team; our HR will evaluate and get back to you in 24 hours.\n"
     ]
    }
   ],
   "source": [
    "s = input(\"enter a string to start \")\n",
    "course = input(\"enter a course name \")\n",
    "service = input(\"enter a service name \")\n",
    "if s == \"oneneuron\":\n",
    "    if course == \"DSA\":\n",
    "        print(\"yes its available under one neruon and in multiple mode for job prepratoin and core concept \")\n",
    "    elif course == \"Blockchain\":\n",
    "        print(\"this is not aviable as of now , kindly raise your demand and we will fulfil in 60 days \")\n",
    "    elif course == \"FSDS\":\n",
    "        print(\"yes its availble , youi can start learning \")\n",
    "    else :\n",
    "        print(\"this course is not availble kindly raise your demand \")\n",
    "elif s  == \"oneneuronservice\":\n",
    "    if service == \"courserequest\":\n",
    "        print(\"*NOTE: Dear Learner, you can raise demand related to any new course, and we will fulfil your need in the next 60 days.\")\n",
    "    elif service == \"module\" :\n",
    "        print(\"*NOTE: Dear Learner, you can raise demand related to any new course module, and we will fulfil your need in the next 30 days.\")\n",
    "    elif service == \"doubt\":\n",
    "        print(\"*NOTE: Dear Learner, you can raise demand related to any doubt clearing, and we will fulfil your need in the next 24 hours.\")\n",
    "    elif service == \"workwithus\":\n",
    "        print(\"*NOTE: Dear Learner, you can raise the demand to work with our team; our HR will evaluate and get back to you in 24 hours.\")\n",
    "    else :\n",
    "        print(\"kindly provide us your feedback and we will fulfil\")\n",
    "else :\n",
    "    print(\"kindly connect with our team \")"
   ]
  },
  {
   "cell_type": "code",
   "execution_count": 20,
   "id": "9c7a4422",
   "metadata": {},
   "outputs": [
    {
     "name": "stdout",
     "output_type": "stream",
     "text": [
      "1\n",
      "2\n",
      "3\n",
      "4\n",
      "5\n",
      "6\n",
      "7\n"
     ]
    }
   ],
   "source": [
    "l = [1,2,3,4,5,6,7]\n",
    "for i in l:\n",
    "    print (i)"
   ]
  },
  {
   "cell_type": "code",
   "execution_count": 23,
   "id": "ca8f3a4a",
   "metadata": {},
   "outputs": [
    {
     "name": "stdout",
     "output_type": "stream",
     "text": [
      "type of 1 <class 'int'>\n",
      "type of 2 <class 'int'>\n",
      "type of 3.6 <class 'float'>\n",
      "type of (5+1j) <class 'complex'>\n",
      "type of sudh <class 'str'>\n"
     ]
    }
   ],
   "source": [
    "l= [1, 2, 3.6, 5+1j, \"sudh\"]\n",
    "for i in l:\n",
    "    print (\"type of\", i, type(i))"
   ]
  },
  {
   "cell_type": "code",
   "execution_count": 25,
   "id": "f13da150",
   "metadata": {},
   "outputs": [
    {
     "name": "stdout",
     "output_type": "stream",
     "text": [
      "3\n",
      "4\n",
      "5.5\n",
      "[3, 4, 5.5]\n"
     ]
    }
   ],
   "source": [
    "l= [1, 2, 3.5]\n",
    "l1= []\n",
    "for i in l:\n",
    "    print(i+2)\n",
    "    l1.append(i+2)\n",
    "print(l1)"
   ]
  },
  {
   "cell_type": "code",
   "execution_count": 38,
   "id": "1dbc9c5f",
   "metadata": {},
   "outputs": [
    {
     "name": "stdout",
     "output_type": "stream",
     "text": [
      "2\n",
      "45\n",
      "78\n",
      "12\n",
      "56\n",
      "67\n",
      "78\n"
     ]
    }
   ],
   "source": [
    "l = [2,45,78,12,\"sudh\" , 6+7j,[56,67,78,46.9,90.7]]\n",
    "for i in l:\n",
    "    if type(i) == int:\n",
    "        print(i)\n",
    "    elif type(i) == list:\n",
    "        for j in i:\n",
    "            if type(j) == int:\n",
    "                print(j)"
   ]
  },
  {
   "cell_type": "code",
   "execution_count": 92,
   "id": "8b56000a",
   "metadata": {},
   "outputs": [
    {
     "name": "stdout",
     "output_type": "stream",
     "text": [
      "element in index 0 2\n",
      "element in index 1 45\n",
      "element in index 2 78\n",
      "element in index 3 12\n",
      "element in index 4 sudh\n",
      "element in index 5 shivang\n",
      "element in index 6 luke\n",
      "element in index 7 (6+7j)\n",
      "element in index 8 [56, 67, 78, 'dsfdsf']\n",
      "['s', 'u', 'd', 'h']\n",
      "['s', 'h', 'i', 'v', 'a', 'n', 'g']\n",
      "['l', 'u', 'k', 'e']\n",
      "[4, 2025, 6084, 144]\n"
     ]
    }
   ],
   "source": [
    "l= [2,45,78,12,\"sudh\" , \"shivang\", \"luke\", 6+7j,[56,67,78,\"dsfdsf\"]]\n",
    "l2= []\n",
    "for i in range (len(l)):\n",
    "    print (\"element in index\", i, l[i])\n",
    "for i in l:\n",
    "    if type(i) == str:\n",
    "        l1= []\n",
    "        for j in i:\n",
    "            l1.append (j)\n",
    "        print (l1)\n",
    "for i in l:\n",
    "    if type(i) == int:\n",
    "        l2.append (i*i)\n",
    "print (l2)"
   ]
  },
  {
   "cell_type": "code",
   "execution_count": 90,
   "id": "d81c1370",
   "metadata": {},
   "outputs": [
    {
     "name": "stdout",
     "output_type": "stream",
     "text": [
      "0 2\n",
      "1 45\n",
      "2 78\n",
      "3 12\n",
      "4 sudh\n",
      "5 shivang\n",
      "6 luke\n",
      "7 (6+7j)\n",
      "8 [56, 67, 78, 'dsfdsf']\n"
     ]
    }
   ],
   "source": [
    "for i,j  in enumerate(l):\n",
    "    print(i ,j)"
   ]
  },
  {
   "cell_type": "code",
   "execution_count": 78,
   "id": "d27b6eeb",
   "metadata": {},
   "outputs": [
    {
     "data": {
      "text/plain": [
       "['s', 'u', 'd', 'h', 's', 'h', 'i', 'v', 'a', 'n', 'g']"
      ]
     },
     "execution_count": 78,
     "metadata": {},
     "output_type": "execute_result"
    }
   ],
   "source": [
    "l1"
   ]
  },
  {
   "cell_type": "code",
   "execution_count": 102,
   "id": "de6a0a99",
   "metadata": {},
   "outputs": [
    {
     "name": "stdout",
     "output_type": "stream",
     "text": [
      "['s', 'u', 'd', 'h']\n",
      "['s', 'h', 'i', 'v', 'a', 'n', 'g']\n",
      "['l', 'u', 'k', 'e']\n"
     ]
    }
   ],
   "source": [
    "for i in l:\n",
    "    # l1 is an empty list, which is getting created after each and every iteration. \n",
    "    l1= []\n",
    "    if type(i) == str:\n",
    "        for j in i:\n",
    "            l1.append (j)\n",
    "        print (l1)"
   ]
  },
  {
   "cell_type": "code",
   "execution_count": 106,
   "id": "1661c062",
   "metadata": {},
   "outputs": [
    {
     "name": "stdout",
     "output_type": "stream",
     "text": [
      "['s', 'u', 'd', 'h']\n",
      "['s', 'u', 'd', 'h', 's', 'h', 'i', 'v', 'a', 'n', 'g']\n",
      "['s', 'u', 'd', 'h', 's', 'h', 'i', 'v', 'a', 'n', 'g', 'l', 'u', 'k', 'e']\n"
     ]
    }
   ],
   "source": [
    "l1= []\n",
    "for i in l:\n",
    "    if type(i) == str:\n",
    "        for j in i:\n",
    "            l1.append (j)\n",
    "        print (l1)\n",
    "        #print l1 is printing the l1 value in each iteration and saving the list value as well"
   ]
  },
  {
   "cell_type": "code",
   "execution_count": 107,
   "id": "ba4191ef",
   "metadata": {},
   "outputs": [
    {
     "name": "stdout",
     "output_type": "stream",
     "text": [
      "['s', 'u', 'd', 'h', 's', 'h', 'i', 'v', 'a', 'n', 'g', 'l', 'u', 'k', 'e']\n"
     ]
    }
   ],
   "source": [
    "l1= []\n",
    "for i in l:\n",
    "    if type(i) == str:\n",
    "        for j in i:\n",
    "            l1.append (j)\n",
    "print(l1)\n",
    "#here l1 getting printed just after the outermost loop termination."
   ]
  }
 ],
 "metadata": {
  "kernelspec": {
   "display_name": "Python 3 (ipykernel)",
   "language": "python",
   "name": "python3"
  },
  "language_info": {
   "codemirror_mode": {
    "name": "ipython",
    "version": 3
   },
   "file_extension": ".py",
   "mimetype": "text/x-python",
   "name": "python",
   "nbconvert_exporter": "python",
   "pygments_lexer": "ipython3",
   "version": "3.9.7"
  }
 },
 "nbformat": 4,
 "nbformat_minor": 5
}
