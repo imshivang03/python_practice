{
 "cells": [
  {
   "cell_type": "code",
   "execution_count": 7,
   "id": "78555267",
   "metadata": {},
   "outputs": [
    {
     "name": "stdout",
     "output_type": "stream",
     "text": [
      "this is my first fun\n"
     ]
    }
   ],
   "source": [
    "def test():\n",
    "    print(\"this is my first fun\")\n",
    "test()"
   ]
  },
  {
   "cell_type": "code",
   "execution_count": 9,
   "id": "bbf2cba5",
   "metadata": {},
   "outputs": [
    {
     "name": "stdout",
     "output_type": "stream",
     "text": [
      "this is my first fun\n"
     ]
    }
   ],
   "source": [
    "a = test()"
   ]
  },
  {
   "cell_type": "code",
   "execution_count": 10,
   "id": "d2afadd0",
   "metadata": {},
   "outputs": [
    {
     "name": "stdout",
     "output_type": "stream",
     "text": [
      "this is my first fun\n"
     ]
    },
    {
     "data": {
      "text/plain": [
       "NoneType"
      ]
     },
     "execution_count": 10,
     "metadata": {},
     "output_type": "execute_result"
    }
   ],
   "source": [
    "type(test())"
   ]
  },
  {
   "cell_type": "code",
   "execution_count": 12,
   "id": "b9de6338",
   "metadata": {},
   "outputs": [
    {
     "data": {
      "text/plain": [
       "'this is my first fun'"
      ]
     },
     "execution_count": 12,
     "metadata": {},
     "output_type": "execute_result"
    }
   ],
   "source": [
    "def test2():\n",
    "    return \"this is my first fun\"\n",
    "test2()"
   ]
  },
  {
   "cell_type": "code",
   "execution_count": 13,
   "id": "e237242e",
   "metadata": {},
   "outputs": [
    {
     "data": {
      "text/plain": [
       "str"
      ]
     },
     "execution_count": 13,
     "metadata": {},
     "output_type": "execute_result"
    }
   ],
   "source": [
    "type(test2())"
   ]
  },
  {
   "cell_type": "code",
   "execution_count": 14,
   "id": "f5145b24",
   "metadata": {},
   "outputs": [
    {
     "data": {
      "text/plain": [
       "'this is my first funsudh'"
      ]
     },
     "execution_count": 14,
     "metadata": {},
     "output_type": "execute_result"
    }
   ],
   "source": [
    "test2() + \"sudh\""
   ]
  },
  {
   "cell_type": "code",
   "execution_count": 15,
   "id": "0065ad26",
   "metadata": {},
   "outputs": [
    {
     "data": {
      "text/plain": [
       "int"
      ]
     },
     "execution_count": 15,
     "metadata": {},
     "output_type": "execute_result"
    }
   ],
   "source": [
    "def test3() : \n",
    "    return 235435\n",
    "type(test3())"
   ]
  },
  {
   "cell_type": "code",
   "execution_count": 21,
   "id": "3b0557f4",
   "metadata": {},
   "outputs": [
    {
     "name": "stdout",
     "output_type": "stream",
     "text": [
      "(4, 3, 'sudh', [1, 2, 3, 4, 5])\n"
     ]
    }
   ],
   "source": [
    "def test4():\n",
    "    return 4,3, \"sudh\" ,[1,2,3,4,5]\n",
    "b= test4()\n",
    "print(b)"
   ]
  },
  {
   "cell_type": "code",
   "execution_count": 22,
   "id": "2a7ec4b2",
   "metadata": {},
   "outputs": [
    {
     "data": {
      "text/plain": [
       "tuple"
      ]
     },
     "execution_count": 22,
     "metadata": {},
     "output_type": "execute_result"
    }
   ],
   "source": [
    "type(b)"
   ]
  },
  {
   "cell_type": "code",
   "execution_count": 23,
   "id": "197327ed",
   "metadata": {},
   "outputs": [
    {
     "data": {
      "text/plain": [
       "(4, 3, 'sudh', [1, 2, 3, 4, 5])"
      ]
     },
     "execution_count": 23,
     "metadata": {},
     "output_type": "execute_result"
    }
   ],
   "source": [
    "b"
   ]
  },
  {
   "cell_type": "code",
   "execution_count": 24,
   "id": "9512474d",
   "metadata": {},
   "outputs": [
    {
     "data": {
      "text/plain": [
       "3"
      ]
     },
     "execution_count": 24,
     "metadata": {},
     "output_type": "execute_result"
    }
   ],
   "source": [
    "b[1]"
   ]
  },
  {
   "cell_type": "code",
   "execution_count": 25,
   "id": "a94a798f",
   "metadata": {},
   "outputs": [
    {
     "data": {
      "text/plain": [
       "[1, 2, 3, 4, 5]"
      ]
     },
     "execution_count": 25,
     "metadata": {},
     "output_type": "execute_result"
    }
   ],
   "source": [
    "b[3]"
   ]
  },
  {
   "cell_type": "code",
   "execution_count": 26,
   "id": "4dc6a79c",
   "metadata": {},
   "outputs": [],
   "source": [
    "a = 1\n",
    "b  = 5 \n",
    "c = \"sudh\"\n",
    "d = [345354,435435,543,543,5435]"
   ]
  },
  {
   "cell_type": "code",
   "execution_count": 27,
   "id": "b5527832",
   "metadata": {},
   "outputs": [],
   "source": [
    "a ,b,c,d = 34, 45, \"sudh\" , \"dfasdfa\""
   ]
  },
  {
   "cell_type": "code",
   "execution_count": 29,
   "id": "c4f95d2d",
   "metadata": {},
   "outputs": [],
   "source": [
    "x,y,u,v = test4()"
   ]
  },
  {
   "cell_type": "code",
   "execution_count": 30,
   "id": "4eb45cef",
   "metadata": {},
   "outputs": [
    {
     "data": {
      "text/plain": [
       "4"
      ]
     },
     "execution_count": 30,
     "metadata": {},
     "output_type": "execute_result"
    }
   ],
   "source": [
    "x"
   ]
  },
  {
   "cell_type": "code",
   "execution_count": 31,
   "id": "5d44634c",
   "metadata": {},
   "outputs": [
    {
     "data": {
      "text/plain": [
       "3"
      ]
     },
     "execution_count": 31,
     "metadata": {},
     "output_type": "execute_result"
    }
   ],
   "source": [
    "y"
   ]
  },
  {
   "cell_type": "code",
   "execution_count": 32,
   "id": "cc5364ce",
   "metadata": {},
   "outputs": [
    {
     "data": {
      "text/plain": [
       "'sudh'"
      ]
     },
     "execution_count": 32,
     "metadata": {},
     "output_type": "execute_result"
    }
   ],
   "source": [
    "u"
   ]
  },
  {
   "cell_type": "code",
   "execution_count": 33,
   "id": "416723f0",
   "metadata": {},
   "outputs": [
    {
     "data": {
      "text/plain": [
       "[1, 2, 3, 4, 5]"
      ]
     },
     "execution_count": 33,
     "metadata": {},
     "output_type": "execute_result"
    }
   ],
   "source": [
    "v"
   ]
  },
  {
   "cell_type": "code",
   "execution_count": 35,
   "id": "68a96e87",
   "metadata": {},
   "outputs": [
    {
     "data": {
      "text/plain": [
       "7.0"
      ]
     },
     "execution_count": 35,
     "metadata": {},
     "output_type": "execute_result"
    }
   ],
   "source": [
    "def test5():\n",
    "    a = 6*7 /6\n",
    "    return a\n",
    "test5()"
   ]
  },
  {
   "cell_type": "code",
   "execution_count": 37,
   "id": "4a28155b",
   "metadata": {},
   "outputs": [
    {
     "data": {
      "text/plain": [
       "[3, 4, 5, 6, 7, 7, 6, 7]"
      ]
     },
     "execution_count": 37,
     "metadata": {},
     "output_type": "execute_result"
    }
   ],
   "source": [
    "def test6(l):\n",
    "    l1=[]\n",
    "    if type(l)==list:\n",
    "        for i in l:\n",
    "            if type(i)==int:\n",
    "                l1.append(i)\n",
    "    return l1\n",
    "\n",
    "l = [3,4,5,6,7,7,\"sudh\",[1,3,4,54,56],6,7]\n",
    "test6(l)"
   ]
  },
  {
   "cell_type": "code",
   "execution_count": 38,
   "id": "4dc370fa",
   "metadata": {},
   "outputs": [
    {
     "data": {
      "text/plain": [
       "[3, 4, 5, 6, 7, 7, 6, 7]"
      ]
     },
     "execution_count": 38,
     "metadata": {},
     "output_type": "execute_result"
    }
   ],
   "source": [
    "def test7(a):\n",
    "    n =[]\n",
    "    if type(a) == list:\n",
    "        for i in a:\n",
    "            if type(i) == int:\n",
    "                n.append(i)\n",
    "    return n \n",
    "\n",
    "l = [3,4,5,6,7,7,\"sudh\",[1,3,4,54,56],6,7]\n",
    "test6(l)"
   ]
  },
  {
   "cell_type": "code",
   "execution_count": 39,
   "id": "4610993d",
   "metadata": {},
   "outputs": [
    {
     "data": {
      "text/plain": [
       "[3, 4, 5, 6, 7, 7, 1, 3, 4, 54, 56, 6, 7]"
      ]
     },
     "execution_count": 39,
     "metadata": {},
     "output_type": "execute_result"
    }
   ],
   "source": [
    "l = [3,4,5,6,7,7,\"sudh\",[1,3,4,54,56],6,7]\n",
    "def test6(a):\n",
    "    n = []\n",
    "    if type(a) == list:\n",
    "        for i in a:\n",
    "            if type(i) == int:\n",
    "                n.append(i)\n",
    "            elif type(i) == list:\n",
    "                for j in i:\n",
    "                    if type(j) == int:\n",
    "                        n.append(j)\n",
    "    return n\n",
    "\n",
    "test6(l)"
   ]
  },
  {
   "cell_type": "code",
   "execution_count": 40,
   "id": "41a8607a",
   "metadata": {},
   "outputs": [],
   "source": [
    "def test8(c) :\n",
    "    if type(c) == dict :\n",
    "        return c.keys()\n",
    "    else :\n",
    "        return \"you have not passed a dic or dict is empty\""
   ]
  },
  {
   "cell_type": "code",
   "execution_count": 41,
   "id": "969f6383",
   "metadata": {},
   "outputs": [
    {
     "data": {
      "text/plain": [
       "'you have not passed a dic or dict is empty'"
      ]
     },
     "execution_count": 41,
     "metadata": {},
     "output_type": "execute_result"
    }
   ],
   "source": [
    "test8(\"fsadfsaf\")"
   ]
  },
  {
   "cell_type": "code",
   "execution_count": 42,
   "id": "cbea50f9",
   "metadata": {},
   "outputs": [
    {
     "data": {
      "text/plain": [
       "dict_keys(['a', 'b', 'c'])"
      ]
     },
     "execution_count": 42,
     "metadata": {},
     "output_type": "execute_result"
    }
   ],
   "source": [
    "test8({\"a\":\"dsfsf\" , \"b\" :2354234 , \"c\" : [4,5,76,78]})"
   ]
  },
  {
   "cell_type": "markdown",
   "id": "1fcb116d",
   "metadata": {},
   "source": [
    "# My approach"
   ]
  },
  {
   "cell_type": "code",
   "execution_count": 51,
   "id": "a0e29041",
   "metadata": {},
   "outputs": [
    {
     "data": {
      "text/plain": [
       "[1, 2, 3, 'shivang', 'ineuron', 'shahi', 'shritu', 9060660606]"
      ]
     },
     "execution_count": 51,
     "metadata": {},
     "output_type": "execute_result"
    }
   ],
   "source": [
    "def test9(l1,l2):\n",
    "    l3=[]\n",
    "    if type(l1 and l2)==list:\n",
    "        l3.extend(l1)\n",
    "        l3.extend(l2)\n",
    "    else:\n",
    "        print(\"It's not the list\")\n",
    "    return l3\n",
    " \n",
    "l1= [1,2,3,\"shivang\",\"ineuron\"]\n",
    "l2= [\"shahi\",\"shritu\",9060660606]\n",
    "test9(l1,l2)"
   ]
  },
  {
   "cell_type": "code",
   "execution_count": 49,
   "id": "137cc728",
   "metadata": {},
   "outputs": [
    {
     "data": {
      "text/plain": [
       "list"
      ]
     },
     "execution_count": 49,
     "metadata": {},
     "output_type": "execute_result"
    }
   ],
   "source": [
    "type(test9(l1,l2))"
   ]
  },
  {
   "cell_type": "markdown",
   "id": "0da9ee6a",
   "metadata": {},
   "source": [
    "# Sudhanshu's approach"
   ]
  },
  {
   "cell_type": "code",
   "execution_count": 52,
   "id": "ff81c914",
   "metadata": {},
   "outputs": [
    {
     "data": {
      "text/plain": [
       "[1, 2, 3, 'shivang', 'ineuron', 'shahi', 'shritu', 9060660606]"
      ]
     },
     "execution_count": 52,
     "metadata": {},
     "output_type": "execute_result"
    }
   ],
   "source": [
    "def test10(a,b) :\n",
    "    if type(a) == list and type(b) == list:\n",
    "        a.extend(b)\n",
    "        return a\n",
    "    else :\n",
    "        return \"either of your data is not a list \"\n",
    "\n",
    "l1= [1,2,3,\"shivang\",\"ineuron\"]\n",
    "l2= [\"shahi\",\"shritu\",9060660606]\n",
    "test9(l1,l2)"
   ]
  },
  {
   "cell_type": "code",
   "execution_count": 77,
   "id": "2a8cefe9",
   "metadata": {},
   "outputs": [
    {
     "name": "stdout",
     "output_type": "stream",
     "text": [
      "3\n",
      "*\n",
      "\n",
      "**\n",
      "\n",
      "***\n",
      "\n"
     ]
    }
   ],
   "source": [
    "def pattern(n):\n",
    "    for i in range(n):\n",
    "        for j in range(i+1):\n",
    "            print(\"*\", end=\"\")\n",
    "        print(\"\\n\")\n",
    "\n",
    "pattern(n= int(input()))"
   ]
  },
  {
   "cell_type": "markdown",
   "id": "d594d1c8",
   "metadata": {},
   "source": [
    "# other type of triangle"
   ]
  },
  {
   "cell_type": "code",
   "execution_count": 70,
   "id": "b4ae3de6",
   "metadata": {},
   "outputs": [
    {
     "name": "stdout",
     "output_type": "stream",
     "text": [
      "  * \n",
      "\n",
      " * * \n",
      "\n",
      "* * * \n",
      "\n"
     ]
    }
   ],
   "source": [
    "def Create_Triangle(row_num):\n",
    "    n= row_num\n",
    "    k = n - 1\n",
    "    \n",
    "    for i in range(0, n):\n",
    "\n",
    "        for j in range(0, k):\n",
    "            print(end=\" \")\n",
    "     \n",
    "        k = k - 1\n",
    "     \n",
    "        for j in range(0, i+1):        \n",
    "            print(\"* \", end=\"\")\n",
    "     \n",
    "        print(\"\\n\")\n",
    "\n",
    "Create_Triangle(3)"
   ]
  },
  {
   "cell_type": "markdown",
   "id": "860cc499",
   "metadata": {},
   "source": [
    "# Doc-string for function definition"
   ]
  },
  {
   "cell_type": "code",
   "execution_count": 78,
   "id": "0478c1fd",
   "metadata": {},
   "outputs": [
    {
     "name": "stdout",
     "output_type": "stream",
     "text": [
      "3\n",
      "*\n",
      "\n",
      "**\n",
      "\n",
      "***\n",
      "\n"
     ]
    }
   ],
   "source": [
    "def pattern(n):\n",
    "    \"\"\"this is a fun to craete a tri \n",
    "    you can give input as an int \n",
    "    and you will be able to get output as a traingle\"\"\"\n",
    "    for i in range(n):\n",
    "        for j in range(i+1):\n",
    "            print(\"*\", end=\"\")\n",
    "        print(\"\\n\")\n",
    "\n",
    "pattern(n= int(input()))"
   ]
  },
  {
   "cell_type": "markdown",
   "id": "f8eb404c",
   "metadata": {},
   "source": [
    "# help function prints the doc-string for a respective function"
   ]
  },
  {
   "cell_type": "code",
   "execution_count": 82,
   "id": "eece39d4",
   "metadata": {},
   "outputs": [
    {
     "name": "stdout",
     "output_type": "stream",
     "text": [
      "Help on function pattern in module __main__:\n",
      "\n",
      "pattern(n)\n",
      "    this is a fun to craete a tri \n",
      "    you can give input as an int \n",
      "    and you will be able to get output as a traingle\n",
      "\n"
     ]
    }
   ],
   "source": [
    "help(pattern)"
   ]
  },
  {
   "cell_type": "code",
   "execution_count": 83,
   "id": "685988b6",
   "metadata": {},
   "outputs": [
    {
     "name": "stdout",
     "output_type": "stream",
     "text": [
      "*\n",
      "\n",
      "**\n",
      "\n",
      "***\n",
      "\n",
      "****\n",
      "\n",
      "*****\n",
      "\n",
      "Help on NoneType object:\n",
      "\n",
      "class NoneType(object)\n",
      " |  Methods defined here:\n",
      " |  \n",
      " |  __bool__(self, /)\n",
      " |      self != 0\n",
      " |  \n",
      " |  __repr__(self, /)\n",
      " |      Return repr(self).\n",
      " |  \n",
      " |  ----------------------------------------------------------------------\n",
      " |  Static methods defined here:\n",
      " |  \n",
      " |  __new__(*args, **kwargs) from builtins.type\n",
      " |      Create and return a new object.  See help(type) for accurate signature.\n",
      "\n"
     ]
    }
   ],
   "source": [
    "help(pattern(5))\n",
    "#showing the complete function details."
   ]
  }
 ],
 "metadata": {
  "kernelspec": {
   "display_name": "Python 3 (ipykernel)",
   "language": "python",
   "name": "python3"
  },
  "language_info": {
   "codemirror_mode": {
    "name": "ipython",
    "version": 3
   },
   "file_extension": ".py",
   "mimetype": "text/x-python",
   "name": "python",
   "nbconvert_exporter": "python",
   "pygments_lexer": "ipython3",
   "version": "3.9.7"
  }
 },
 "nbformat": 4,
 "nbformat_minor": 5
}
