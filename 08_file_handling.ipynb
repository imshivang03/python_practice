{
 "cells": [
  {
   "cell_type": "code",
   "execution_count": 2,
   "id": "d25d9848",
   "metadata": {},
   "outputs": [],
   "source": [
    "f = open(\"test1.txt\",\"w\")"
   ]
  },
  {
   "cell_type": "code",
   "execution_count": 3,
   "id": "f7d0259b",
   "metadata": {},
   "outputs": [
    {
     "name": "stdout",
     "output_type": "stream",
     "text": [
      " Volume in drive C is WINDOWS\n",
      " Volume Serial Number is 8232-B192\n",
      "\n",
      " Directory of C:\\Users\\shiva\n",
      "\n",
      "04/28/2022  12:04 PM    <DIR>          .\n",
      "04/28/2022  12:04 PM    <DIR>          ..\n",
      "01/23/2022  09:54 PM               913 .bash_history\n",
      "01/22/2022  11:37 PM                66 .gitconfig\n",
      "04/28/2022  12:02 PM    <DIR>          .ipynb_checkpoints\n",
      "01/21/2022  08:51 PM    <DIR>          .ipython\n",
      "04/19/2022  12:43 PM    <DIR>          .jupyter\n",
      "01/22/2022  11:37 PM                20 .lesshst\n",
      "12/26/2021  10:04 PM    <DIR>          3D Objects\n",
      "01/19/2022  09:58 PM    <DIR>          anaconda3\n",
      "04/18/2022  02:52 PM               908 Assignment_1.ipynb\n",
      "12/26/2021  10:04 PM    <DIR>          Contacts\n",
      "12/26/2021  10:41 PM    <DIR>          Documents\n",
      "04/23/2022  10:35 AM    <DIR>          Downloads\n",
      "12/26/2021  10:04 PM    <DIR>          Favorites\n",
      "04/28/2022  12:02 PM                72 file_handling.ipynb\n",
      "04/17/2022  02:39 PM             8,865 for & while_loops.ipynb\n",
      "04/19/2022  03:34 PM            15,945 function_class-1.ipynb\n",
      "04/23/2022  09:57 PM            54,256 function_class-2.ipynb\n",
      "04/23/2022  10:34 AM             2,681 function_practice_problems.ipynb\n",
      "04/16/2022  11:33 PM            13,874 ifelse_forloops_day4.ipynb\n",
      "12/26/2021  10:04 PM    <DIR>          Links\n",
      "04/19/2022  01:11 PM            15,606 loops_practice.ipynb\n",
      "12/26/2021  10:04 PM    <DIR>          Music\n",
      "04/19/2022  03:42 PM    <DIR>          OneDrive\n",
      "12/26/2021  10:04 PM    <DIR>          Saved Games\n",
      "12/26/2021  10:06 PM    <DIR>          Searches\n",
      "04/22/2022  03:45 PM            48,395 string_list_day2.ipynb\n",
      "04/28/2022  12:04 PM                 0 test1.txt\n",
      "01/22/2022  12:41 AM    <DIR>          Tracing\n",
      "04/22/2022  03:46 PM            39,937 tuples_set_dict_day3.ipynb\n",
      "01/03/2022  11:11 AM    <DIR>          Videos\n",
      "              14 File(s)        201,538 bytes\n",
      "              18 Dir(s)  68,011,630,592 bytes free\n"
     ]
    }
   ],
   "source": [
    "ls"
   ]
  },
  {
   "cell_type": "code",
   "execution_count": 4,
   "id": "5d25ac2d",
   "metadata": {},
   "outputs": [
    {
     "data": {
      "text/plain": [
       "'C:\\\\Users\\\\shiva'"
      ]
     },
     "execution_count": 4,
     "metadata": {},
     "output_type": "execute_result"
    }
   ],
   "source": [
    "pwd"
   ]
  },
  {
   "cell_type": "code",
   "execution_count": 5,
   "id": "fa9aa797",
   "metadata": {},
   "outputs": [
    {
     "data": {
      "text/plain": [
       "226"
      ]
     },
     "execution_count": 5,
     "metadata": {},
     "output_type": "execute_result"
    }
   ],
   "source": [
    "f.write(\"this is dsfsaf adfdsaf safdsa dsafsadfdsa dsaf sfdsf safsa sadf safdsaf sfdsaf safsaf sadfsa dsaf afs dsaf sadfdsa sadf asdfd sadsaf asdfd safd asf asf sdfd ssadfsadf saf sadfmy first file operation to someting in my test2.txt\")"
   ]
  },
  {
   "cell_type": "code",
   "execution_count": 6,
   "id": "03a234b6",
   "metadata": {},
   "outputs": [],
   "source": [
    "f.close()"
   ]
  },
  {
   "cell_type": "code",
   "execution_count": 7,
   "id": "a9d20993",
   "metadata": {},
   "outputs": [
    {
     "name": "stdout",
     "output_type": "stream",
     "text": [
      "Writing test2.txt\n"
     ]
    }
   ],
   "source": [
    "%%writefile test2.txt\n",
    "this is a data i would like to store in my file "
   ]
  },
  {
   "cell_type": "code",
   "execution_count": 8,
   "id": "4323103a",
   "metadata": {},
   "outputs": [],
   "source": [
    "f = open('test1.txt')"
   ]
  },
  {
   "cell_type": "code",
   "execution_count": 9,
   "id": "1a8cd9fd",
   "metadata": {},
   "outputs": [
    {
     "data": {
      "text/plain": [
       "'this is dsfsaf adfdsaf safdsa dsafsadfdsa dsaf sfdsf safsa sadf safdsaf sfdsaf safsaf sadfsa dsaf afs dsaf sadfdsa sadf asdfd sadsaf asdfd safd asf asf sdfd ssadfsadf saf sadfmy first file operation to someting in my test2.txt'"
      ]
     },
     "execution_count": 9,
     "metadata": {},
     "output_type": "execute_result"
    }
   ],
   "source": [
    "f.read()"
   ]
  },
  {
   "cell_type": "code",
   "execution_count": 10,
   "id": "f250d75d",
   "metadata": {},
   "outputs": [
    {
     "ename": "UnsupportedOperation",
     "evalue": "not writable",
     "output_type": "error",
     "traceback": [
      "\u001b[1;31m---------------------------------------------------------------------------\u001b[0m",
      "\u001b[1;31mUnsupportedOperation\u001b[0m                      Traceback (most recent call last)",
      "\u001b[1;32m~\\AppData\\Local\\Temp/ipykernel_7252/3253716508.py\u001b[0m in \u001b[0;36m<module>\u001b[1;34m\u001b[0m\n\u001b[1;32m----> 1\u001b[1;33m \u001b[0mf\u001b[0m\u001b[1;33m.\u001b[0m\u001b[0mwrite\u001b[0m\u001b[1;33m(\u001b[0m\u001b[1;34m\"fdsafdsafsadf f dsaf asfda sdf dafsa df\"\u001b[0m\u001b[1;33m)\u001b[0m\u001b[1;33m\u001b[0m\u001b[1;33m\u001b[0m\u001b[0m\n\u001b[0m",
      "\u001b[1;31mUnsupportedOperation\u001b[0m: not writable"
     ]
    }
   ],
   "source": [
    "f.write(\"fdsafdsafsadf f dsaf asfda sdf dafsa df\")"
   ]
  },
  {
   "cell_type": "code",
   "execution_count": 11,
   "id": "f7228175",
   "metadata": {},
   "outputs": [
    {
     "data": {
      "text/plain": [
       "''"
      ]
     },
     "execution_count": 11,
     "metadata": {},
     "output_type": "execute_result"
    }
   ],
   "source": [
    "f.read()"
   ]
  },
  {
   "cell_type": "code",
   "execution_count": 12,
   "id": "cb81ab60",
   "metadata": {},
   "outputs": [
    {
     "data": {
      "text/plain": [
       "''"
      ]
     },
     "execution_count": 12,
     "metadata": {},
     "output_type": "execute_result"
    }
   ],
   "source": [
    "f.read()"
   ]
  },
  {
   "cell_type": "code",
   "execution_count": 13,
   "id": "0e77bbcb",
   "metadata": {},
   "outputs": [
    {
     "data": {
      "text/plain": [
       "5"
      ]
     },
     "execution_count": 13,
     "metadata": {},
     "output_type": "execute_result"
    }
   ],
   "source": [
    "f.seek(5)"
   ]
  },
  {
   "cell_type": "code",
   "execution_count": 14,
   "id": "99835a4d",
   "metadata": {},
   "outputs": [
    {
     "data": {
      "text/plain": [
       "'is dsfsaf adfdsaf safdsa dsafsadfdsa dsaf sfdsf safsa sadf safdsaf sfdsaf safsaf sadfsa dsaf afs dsaf sadfdsa sadf asdfd sadsaf asdfd safd asf asf sdfd ssadfsadf saf sadfmy first file operation to someting in my test2.txt'"
      ]
     },
     "execution_count": 14,
     "metadata": {},
     "output_type": "execute_result"
    }
   ],
   "source": [
    "f.read()"
   ]
  },
  {
   "cell_type": "code",
   "execution_count": 15,
   "id": "c1fa67b0",
   "metadata": {},
   "outputs": [
    {
     "data": {
      "text/plain": [
       "''"
      ]
     },
     "execution_count": 15,
     "metadata": {},
     "output_type": "execute_result"
    }
   ],
   "source": [
    "f.read()"
   ]
  },
  {
   "cell_type": "code",
   "execution_count": 16,
   "id": "3e98f25e",
   "metadata": {},
   "outputs": [
    {
     "data": {
      "text/plain": [
       "0"
      ]
     },
     "execution_count": 16,
     "metadata": {},
     "output_type": "execute_result"
    }
   ],
   "source": [
    "f.seek(0)"
   ]
  },
  {
   "cell_type": "code",
   "execution_count": 17,
   "id": "a30a0e04",
   "metadata": {},
   "outputs": [
    {
     "data": {
      "text/plain": [
       "'this is dsfsaf adfdsaf safdsa dsafsadfdsa dsaf sfdsf safsa sadf safdsaf sfdsaf safsaf sadfsa dsaf afs dsaf sadfdsa sadf asdfd sadsaf asdfd safd asf asf sdfd ssadfsadf saf sadfmy first file operation to someting in my test2.txt'"
      ]
     },
     "execution_count": 17,
     "metadata": {},
     "output_type": "execute_result"
    }
   ],
   "source": [
    "f.read()"
   ]
  },
  {
   "cell_type": "code",
   "execution_count": 18,
   "id": "cf331be7",
   "metadata": {},
   "outputs": [
    {
     "data": {
      "text/plain": [
       "226"
      ]
     },
     "execution_count": 18,
     "metadata": {},
     "output_type": "execute_result"
    }
   ],
   "source": [
    "f.tell()"
   ]
  },
  {
   "cell_type": "code",
   "execution_count": 19,
   "id": "55e1a08a",
   "metadata": {},
   "outputs": [
    {
     "data": {
      "text/plain": [
       "5"
      ]
     },
     "execution_count": 19,
     "metadata": {},
     "output_type": "execute_result"
    }
   ],
   "source": [
    "f.seek(5)"
   ]
  },
  {
   "cell_type": "code",
   "execution_count": 20,
   "id": "62a9de47",
   "metadata": {},
   "outputs": [
    {
     "data": {
      "text/plain": [
       "5"
      ]
     },
     "execution_count": 20,
     "metadata": {},
     "output_type": "execute_result"
    }
   ],
   "source": [
    "f.tell()"
   ]
  },
  {
   "cell_type": "code",
   "execution_count": 21,
   "id": "03381ba4",
   "metadata": {},
   "outputs": [],
   "source": [
    "f.close()"
   ]
  },
  {
   "cell_type": "code",
   "execution_count": 31,
   "id": "2acd5657",
   "metadata": {},
   "outputs": [],
   "source": [
    "f = open(\"test1.txt\" , \"r+\")"
   ]
  },
  {
   "cell_type": "code",
   "execution_count": 23,
   "id": "e292333b",
   "metadata": {},
   "outputs": [
    {
     "data": {
      "text/plain": [
       "'this is dsfsaf adfdsaf safdsa dsafsadfdsa dsaf sfdsf safsa sadf safdsaf sfdsaf safsaf sadfsa dsaf afs dsaf sadfdsa sadf asdfd sadsaf asdfd safd asf asf sdfd ssadfsadf saf sadfmy first file operation to someting in my test2.txt'"
      ]
     },
     "execution_count": 23,
     "metadata": {},
     "output_type": "execute_result"
    }
   ],
   "source": [
    "f.read()"
   ]
  },
  {
   "cell_type": "code",
   "execution_count": 24,
   "id": "68bbcaf8",
   "metadata": {},
   "outputs": [
    {
     "data": {
      "text/plain": [
       "''"
      ]
     },
     "execution_count": 24,
     "metadata": {},
     "output_type": "execute_result"
    }
   ],
   "source": [
    "f.readline()"
   ]
  },
  {
   "cell_type": "code",
   "execution_count": 25,
   "id": "c9da15a6",
   "metadata": {},
   "outputs": [
    {
     "data": {
      "text/plain": [
       "226"
      ]
     },
     "execution_count": 25,
     "metadata": {},
     "output_type": "execute_result"
    }
   ],
   "source": [
    "f.tell()"
   ]
  },
  {
   "cell_type": "code",
   "execution_count": 27,
   "id": "8f30c528",
   "metadata": {},
   "outputs": [
    {
     "data": {
      "text/plain": [
       "0"
      ]
     },
     "execution_count": 27,
     "metadata": {},
     "output_type": "execute_result"
    }
   ],
   "source": [
    "f.seek(0)"
   ]
  },
  {
   "cell_type": "code",
   "execution_count": 28,
   "id": "71250ad3",
   "metadata": {},
   "outputs": [
    {
     "data": {
      "text/plain": [
       "'this is dsfsaf adfdsaf safdsa dsafsadfdsa dsaf sfdsf safsa sadf safdsaf sfdsaf safsaf sadfsa dsaf afs dsaf sadfdsa sadf asdfd sadsaf asdfd safd asf asf sdfd ssadfsadf saf sadfmy first file operation to someting in my test2.txt'"
      ]
     },
     "execution_count": 28,
     "metadata": {},
     "output_type": "execute_result"
    }
   ],
   "source": [
    "f.readline()"
   ]
  },
  {
   "cell_type": "code",
   "execution_count": 32,
   "id": "aa7e0c85",
   "metadata": {},
   "outputs": [
    {
     "data": {
      "text/plain": [
       "'this is dsfsaf adfdsaf safdsa dsafsadfdsa dsaf sfdsf safsa sadf\\n'"
      ]
     },
     "execution_count": 32,
     "metadata": {},
     "output_type": "execute_result"
    }
   ],
   "source": [
    "f.readline()"
   ]
  },
  {
   "cell_type": "code",
   "execution_count": 33,
   "id": "3c77c894",
   "metadata": {},
   "outputs": [
    {
     "data": {
      "text/plain": [
       "' safdsaf sfdsaf safsaf sadfsa dsaf afs dsaf sadfdsa sadf asdfd sadsaf asdfd safd asf asf sdfd ssadfsadf saf sadfmy first file operation to someting in my test2.txt'"
      ]
     },
     "execution_count": 33,
     "metadata": {},
     "output_type": "execute_result"
    }
   ],
   "source": [
    "f.readline()"
   ]
  },
  {
   "cell_type": "code",
   "execution_count": 34,
   "id": "8401450b",
   "metadata": {},
   "outputs": [],
   "source": [
    "f.close()"
   ]
  },
  {
   "cell_type": "code",
   "execution_count": 35,
   "id": "9c9c0f02",
   "metadata": {},
   "outputs": [],
   "source": [
    "f= open(\"google.txt\", \"w\")"
   ]
  },
  {
   "cell_type": "code",
   "execution_count": 36,
   "id": "db8292e7",
   "metadata": {},
   "outputs": [
    {
     "data": {
      "text/plain": [
       "2152"
      ]
     },
     "execution_count": 36,
     "metadata": {},
     "output_type": "execute_result"
    }
   ],
   "source": [
    "f.write(\"\"\"Google LLC is an American multinational technology company that focuses on artificial intelligence,[10] search engine, online advertising, cloud computing, computer software, quantum computing, e-commerce, and consumer electronics. It has been referred to as the \"most powerful company in the world\" and one of the world's most valuable brands due to its market dominance, data collection, and technological advantages in the area of artificial intelligence.[11][12][13][14] It is considered one of the Big Five American information technology companies, alongside Amazon, Apple, Meta, and Microsoft.\n",
    "\n",
    "Google was founded on September 4, 1998, by Larry Page and Sergey Brin while they were PhD students at Stanford University in California. Together they own about 14% of its publicly listed shares and control 56% of the stockholder voting power through super-voting stock. The company went public via an initial public offering (IPO) in 2004. In 2015, Google was reorganized as a wholly owned subsidiary of Alphabet Inc. Google is Alphabet's largest subsidiary and is a holding company for Alphabet's Internet properties and interests. Sundar Pichai was appointed CEO of Google on October 24, 2015, replacing Larry Page, who became the CEO of Alphabet. On December 3, 2019, Pichai also became the CEO of Alphabet.[15]\n",
    "\n",
    "The company has since rapidly grown to offer a multitude of products and services beyond Google Search, many of which hold dominant market positions. These products address a wide range of use cases, including email (Gmail), navigation (Maps), cloud computing (Cloud), web browsing (Chrome), video sharing (YouTube), productivity (Workspace), operating systems (Android), cloud storage (Drive), language translation (Translate), photo storage (Photo), video calling (Meet), smart home (Nest), smartphones (Pixel), wearable technology (Fitbit), gaming (Stadia), music streaming (YouTube Music), video on demand (TV), artificial intelligence (Assistant), machine learning APIs (TensorFlow), AI chips (TPU), and more. Discontinued Google products include Glass, Google+, Reader, Play Music, Nexus, Hangouts, and Inbox by Gmail.[16][17]\"\"\")"
   ]
  },
  {
   "cell_type": "code",
   "execution_count": 39,
   "id": "a63cfd46",
   "metadata": {},
   "outputs": [],
   "source": [
    "f.close()"
   ]
  },
  {
   "cell_type": "code",
   "execution_count": 40,
   "id": "638f1cd6",
   "metadata": {},
   "outputs": [],
   "source": [
    " f = open(\"google.txt\" , \"r+\")"
   ]
  },
  {
   "cell_type": "code",
   "execution_count": 41,
   "id": "25309e17",
   "metadata": {},
   "outputs": [
    {
     "data": {
      "text/plain": [
       "'Google LLC is an American multinational technology company that focuses on artificial intelligence,[10] search engine, online advertising, cloud computing, computer software, quantum computing, e-commerce, and consumer electronics. It has been referred to as the \"most powerful company in the world\" and one of the world\\'s most valuable brands due to its market dominance, data collection, and technological advantages in the area of artificial intelligence.[11][12][13][14] It is considered one of the Big Five American information technology companies, alongside Amazon, Apple, Meta, and Microsoft.\\n'"
      ]
     },
     "execution_count": 41,
     "metadata": {},
     "output_type": "execute_result"
    }
   ],
   "source": [
    "f.readline()"
   ]
  },
  {
   "cell_type": "code",
   "execution_count": 42,
   "id": "5a6b05af",
   "metadata": {},
   "outputs": [
    {
     "data": {
      "text/plain": [
       "\"\\nGoogle was founded on September 4, 1998, by Larry Page and Sergey Brin while they were PhD students at Stanford University in California. Together they own about 14% of its publicly listed shares and control 56% of the stockholder voting power through super-voting stock. The company went public via an initial public offering (IPO) in 2004. In 2015, Google was reorganized as a wholly owned subsidiary of Alphabet Inc. Google is Alphabet's largest subsidiary and is a holding company for Alphabet's Internet properties and interests. Sundar Pichai was appointed CEO of Google on October 24, 2015, replacing Larry Page, who became the CEO of Alphabet. On December 3, 2019, Pichai also became the CEO of Alphabet.[15]\\n\\nThe company has since rapidly grown to offer a multitude of products and services beyond Google Search, many of which hold dominant market positions. These products address a wide range of use cases, including email (Gmail), navigation (Maps), cloud computing (Cloud), web browsing (Chrome), video sharing (YouTube), productivity (Workspace), operating systems (Android), cloud storage (Drive), language translation (Translate), photo storage (Photo), video calling (Meet), smart home (Nest), smartphones (Pixel), wearable technology (Fitbit), gaming (Stadia), music streaming (YouTube Music), video on demand (TV), artificial intelligence (Assistant), machine learning APIs (TensorFlow), AI chips (TPU), and more. Discontinued Google products include Glass, Google+, Reader, Play Music, Nexus, Hangouts, and Inbox by Gmail.[16][17]\""
      ]
     },
     "execution_count": 42,
     "metadata": {},
     "output_type": "execute_result"
    }
   ],
   "source": [
    "f.read()"
   ]
  },
  {
   "cell_type": "code",
   "execution_count": 44,
   "id": "885495ea",
   "metadata": {},
   "outputs": [],
   "source": [
    "f.close()"
   ]
  },
  {
   "cell_type": "code",
   "execution_count": 45,
   "id": "f686f454",
   "metadata": {},
   "outputs": [
    {
     "name": "stdout",
     "output_type": "stream",
     "text": [
      "Google LLC is an American multinational technology company that focuses on artificial intelligence,[10] search engine, online advertising, cloud computing, computer software, quantum computing, e-commerce, and consumer electronics. It has been referred to as the \"most powerful company in the world\" and one of the world's most valuable brands due to its market dominance, data collection, and technological advantages in the area of artificial intelligence.[11][12][13][14] It is considered one of the Big Five American information technology companies, alongside Amazon, Apple, Meta, and Microsoft.\n",
      " \n",
      " Google was founded on September 4, 1998, by Larry Page and Sergey Brin while they were PhD students at Stanford University in California. Together they own about 14% of its publicly listed shares and control 56% of the stockholder voting power through super-voting stock. The company went public via an initial public offering (IPO) in 2004. In 2015, Google was reorganized as a wholly owned subsidiary of Alphabet Inc. Google is Alphabet's largest subsidiary and is a holding company for Alphabet's Internet properties and interests. Sundar Pichai was appointed CEO of Google on October 24, 2015, replacing Larry Page, who became the CEO of Alphabet. On December 3, 2019, Pichai also became the CEO of Alphabet.[15]\n",
      " \n",
      " The company has since rapidly grown to offer a multitude of products and services beyond Google Search, many of which hold dominant market positions. These products address a wide range of use cases, including email (Gmail), navigation (Maps), cloud computing (Cloud), web browsing (Chrome), video sharing (YouTube), productivity (Workspace), operating systems (Android), cloud storage (Drive), language translation (Translate), photo storage (Photo), video calling (Meet), smart home (Nest), smartphones (Pixel), wearable technology (Fitbit), gaming (Stadia), music streaming (YouTube Music), video on demand (TV), artificial intelligence (Assistant), machine learning APIs (TensorFlow), AI chips (TPU), and more. Discontinued Google products include Glass, Google+, Reader, Play Music, Nexus, Hangouts, and Inbox by Gmail.[16][17] "
     ]
    }
   ],
   "source": [
    "f = open(\"google.txt\" , \"r+\")\n",
    "for line in f :\n",
    "    print(line , end = \" \")"
   ]
  },
  {
   "cell_type": "code",
   "execution_count": 46,
   "id": "1ada0121",
   "metadata": {},
   "outputs": [
    {
     "data": {
      "text/plain": [
       "22"
      ]
     },
     "execution_count": 46,
     "metadata": {},
     "output_type": "execute_result"
    }
   ],
   "source": [
    "f.write(\"fsadasfsa dsaf asf saf\")"
   ]
  },
  {
   "cell_type": "code",
   "execution_count": 47,
   "id": "48eef299",
   "metadata": {},
   "outputs": [],
   "source": [
    "f.close()"
   ]
  },
  {
   "cell_type": "code",
   "execution_count": 48,
   "id": "7bf83b5c",
   "metadata": {},
   "outputs": [],
   "source": [
    "f = open(\"google.txt\"  , \"r+\")"
   ]
  },
  {
   "cell_type": "code",
   "execution_count": 49,
   "id": "e52e254d",
   "metadata": {},
   "outputs": [
    {
     "data": {
      "text/plain": [
       "5"
      ]
     },
     "execution_count": 49,
     "metadata": {},
     "output_type": "execute_result"
    }
   ],
   "source": [
    "f.seek(5)"
   ]
  },
  {
   "cell_type": "code",
   "execution_count": 50,
   "id": "0ae35224",
   "metadata": {},
   "outputs": [
    {
     "data": {
      "text/plain": [
       "41"
      ]
     },
     "execution_count": 50,
     "metadata": {},
     "output_type": "execute_result"
    }
   ],
   "source": [
    "f.write(\"this is my file write op at 5th locatoin \")"
   ]
  },
  {
   "cell_type": "code",
   "execution_count": 51,
   "id": "80a53034",
   "metadata": {},
   "outputs": [],
   "source": [
    "f.close()"
   ]
  },
  {
   "cell_type": "code",
   "execution_count": 61,
   "id": "67af4eda",
   "metadata": {},
   "outputs": [],
   "source": [
    "f = open(\"google.txt\" , \"r+\")"
   ]
  },
  {
   "cell_type": "code",
   "execution_count": 62,
   "id": "98544617",
   "metadata": {},
   "outputs": [
    {
     "data": {
      "text/plain": [
       "['Googlthis is my file write op at 5th locatoin logy company that focuses on artificial intelligence,[10] search engine, online advertising, cloud computing, computer software, quantum computing, e-commerce, and consumer electronics. It has been referred to as the \"most powerful company in the world\" and one of the world\\'s most valuable brands due to its market dominance, data collection, and technological advantages in the area of artificial intelligence.[11][12][13][14] It is considered one of the Big Five American information technology companies, alongside Amazon, Apple, Meta, and Microsoft.\\n',\n",
       " '\\n',\n",
       " \"Google was founded on September 4, 1998, by Larry Page and Sergey Brin while they were PhD students at Stanford University in California. Together they own about 14% of its publicly listed shares and control 56% of the stockholder voting power through super-voting stock. The company went public via an initial public offering (IPO) in 2004. In 2015, Google was reorganized as a wholly owned subsidiary of Alphabet Inc. Google is Alphabet's largest subsidiary and is a holding company for Alphabet's Internet properties and interests. Sundar Pichai was appointed CEO of Google on October 24, 2015, replacing Larry Page, who became the CEO of Alphabet. On December 3, 2019, Pichai also became the CEO of Alphabet.[15]\\n\",\n",
       " '\\n',\n",
       " 'The company has since rapidly grown to offer a multitude of products and services beyond Google Search, many of which hold dominant market positions. These products address a wide range of use cases, including email (Gmail), navigation (Maps), cloud computing (Cloud), web browsing (Chrome), video sharing (YouTube), productivity (Workspace), operating systems (Android), cloud storage (Drive), language translation (Translate), photo storage (Photo), video calling (Meet), smart home (Nest), smartphones (Pixel), wearable technology (Fitbit), gaming (Stadia), music streaming (YouTube Music), video on demand (TV), artificial intelligence (Assistant), machine learning APIs (TensorFlow), AI chips (TPU), and more. Discontinued Google products include Glass, Google+, Reader, Play Music, Nexus, Hangouts, and Inbox by Gmail.[16][17]fsadasfsa dsaf asf saf']"
      ]
     },
     "execution_count": 62,
     "metadata": {},
     "output_type": "execute_result"
    }
   ],
   "source": [
    "f.readlines()"
   ]
  },
  {
   "cell_type": "code",
   "execution_count": 64,
   "id": "7e906503",
   "metadata": {},
   "outputs": [],
   "source": [
    "f.close()"
   ]
  },
  {
   "cell_type": "code",
   "execution_count": 65,
   "id": "bbfdc12a",
   "metadata": {},
   "outputs": [],
   "source": [
    "f = open(\"google.txt\" , \"r+\")"
   ]
  },
  {
   "cell_type": "code",
   "execution_count": 66,
   "id": "3ff3f847",
   "metadata": {},
   "outputs": [
    {
     "data": {
      "text/plain": [
       "5"
      ]
     },
     "execution_count": 66,
     "metadata": {},
     "output_type": "execute_result"
    }
   ],
   "source": [
    "len(f.readlines())"
   ]
  },
  {
   "cell_type": "code",
   "execution_count": 68,
   "id": "14837fdd",
   "metadata": {},
   "outputs": [],
   "source": [
    "f.close()"
   ]
  },
  {
   "cell_type": "code",
   "execution_count": 69,
   "id": "61b20543",
   "metadata": {},
   "outputs": [],
   "source": [
    "f = open(\"google.txt\" , \"r+\")"
   ]
  },
  {
   "cell_type": "code",
   "execution_count": 70,
   "id": "36cde5c8",
   "metadata": {},
   "outputs": [
    {
     "data": {
      "text/plain": [
       "'Googlthis is my file write op at 5th locatoin logy company that focuses on artificial intelligence,[10] search engine, online advertising, cloud computing, computer software, quantum computing, e-commerce, and consumer electronics. It has been referred to as the \"most powerful company in the world\" and one of the world\\'s most valuable brands due to its market dominance, data collection, and technological advantages in the area of artificial intelligence.[11][12][13][14] It is considered one of the Big Five American information technology companies, alongside Amazon, Apple, Meta, and Microsoft.\\n\\nGoogle was founded on September 4, 1998, by Larry Page and Sergey Brin while they were PhD students at Stanford University in California. Together they own about 14% of its publicly listed shares and control 56% of the stockholder voting power through super-voting stock. The company went public via an initial public offering (IPO) in 2004. In 2015, Google was reorganized as a wholly owned subsidiary of Alphabet Inc. Google is Alphabet\\'s largest subsidiary and is a holding company for Alphabet\\'s Internet properties and interests. Sundar Pichai was appointed CEO of Google on October 24, 2015, replacing Larry Page, who became the CEO of Alphabet. On December 3, 2019, Pichai also became the CEO of Alphabet.[15]\\n\\nThe company has since rapidly grown to offer a multitude of products and services beyond Google Search, many of which hold dominant market positions. These products address a wide range of use cases, including email (Gmail), navigation (Maps), cloud computing (Cloud), web browsing (Chrome), video sharing (YouTube), productivity (Workspace), operating systems (Android), cloud storage (Drive), language translation (Translate), photo storage (Photo), video calling (Meet), smart home (Nest), smartphones (Pixel), wearable technology (Fitbit), gaming (Stadia), music streaming (YouTube Music), video on demand (TV), artificial intelligence (Assistant), machine learning APIs (TensorFlow), AI chips (TPU), and more. Discontinued Google products include Glass, Google+, Reader, Play Music, Nexus, Hangouts, and Inbox by Gmail.[16][17]fsadasfsa dsaf asf saf'"
      ]
     },
     "execution_count": 70,
     "metadata": {},
     "output_type": "execute_result"
    }
   ],
   "source": [
    "f.read()"
   ]
  },
  {
   "cell_type": "code",
   "execution_count": 71,
   "id": "e6688618",
   "metadata": {},
   "outputs": [],
   "source": [
    "f.close()"
   ]
  },
  {
   "cell_type": "code",
   "execution_count": 76,
   "id": "bf59598d",
   "metadata": {},
   "outputs": [],
   "source": [
    "f = open(\"google.txt\" , \"r+\")"
   ]
  },
  {
   "cell_type": "code",
   "execution_count": 77,
   "id": "ed131c5e",
   "metadata": {},
   "outputs": [
    {
     "data": {
      "text/plain": [
       "['Googlthis is my file write op at 5th locatoin logy company that focuses on artificial intelligence,[10] search engine, online advertising, cloud computing, computer software, quantum computing, e-commerce, and consumer electronics. It has been referred to as the \"most powerful company in the world\" and one of the world\\'s most valuable brands due to its market dominance, data collection, and technological advantages in the area of artificial intelligence.[11][12][13][14] It is considered one of the Big Five American information technology companies, alongside Amazon, Apple, Meta, and Microsoft.\\n',\n",
       " '\\n',\n",
       " \"Google was founded on September 4, 1998, by Larry Page and Sergey Brin while they were PhD students at Stanford University in California. Together they own about 14% of its publicly listed shares and control 56% of the stockholder voting power through super-voting stock. The company went public via an initial public offering (IPO) in 2004. In 2015, Google was reorganized as a wholly owned subsidiary of Alphabet Inc. Google is Alphabet's largest subsidiary and is a holding company for Alphabet's Internet properties and interests. Sundar Pichai was appointed CEO of Google on October 24, 2015, replacing Larry Page, who became the CEO of Alphabet. On December 3, 2019, Pichai also became the CEO of Alphabet.[15]\\n\",\n",
       " '\\n',\n",
       " 'The company has since rapidly grown to offer a multitude of products and services beyond Google Search, many of which hold dominant market positions. These products address a wide range of use cases, including email (Gmail), navigation (Maps), cloud computing (Cloud), web browsing (Chrome), video sharing (YouTube), productivity (Workspace), operating systems (Android), cloud storage (Drive), language translation (Translate), photo storage (Photo), video calling (Meet), smart home (Nest), smartphones (Pixel), wearable technology (Fitbit), gaming (Stadia), music streaming (YouTube Music), video on demand (TV), artificial intelligence (Assistant), machine learning APIs (TensorFlow), AI chips (TPU), and more. Discontinued Google products include Glass, Google+, Reader, Play Music, Nexus, Hangouts, and Inbox by Gmail.[16][17]fsadasfsa dsaf asf saf']"
      ]
     },
     "execution_count": 77,
     "metadata": {},
     "output_type": "execute_result"
    }
   ],
   "source": [
    "l1=f.readlines()\n",
    "l1"
   ]
  },
  {
   "cell_type": "code",
   "execution_count": 79,
   "id": "7b75dd5d",
   "metadata": {},
   "outputs": [
    {
     "data": {
      "text/plain": [
       "'Googlthis is my file write op at 5th locatoin logy company that focuses on artificial intelligence,[10] search engine, online advertising, cloud computing, computer software, quantum computing, e-commerce, and consumer electronics. It has been referred to as the \"most powerful company in the world\" and one of the world\\'s most valuable brands due to its market dominance, data collection, and technological advantages in the area of artificial intelligence.[11][12][13][14] It is considered one of the Big Five American information technology companies, alongside Amazon, Apple, Meta, and Microsoft.\\n'"
      ]
     },
     "execution_count": 79,
     "metadata": {},
     "output_type": "execute_result"
    }
   ],
   "source": [
    "l1[0]"
   ]
  },
  {
   "cell_type": "code",
   "execution_count": 84,
   "id": "3bf405eb",
   "metadata": {},
   "outputs": [
    {
     "data": {
      "text/plain": [
       "['G',\n",
       " 'i',\n",
       " 'm',\n",
       " 'f',\n",
       " 'w',\n",
       " 'o',\n",
       " 'a',\n",
       " '5',\n",
       " 'l',\n",
       " 'l',\n",
       " 'c',\n",
       " 't',\n",
       " 'f',\n",
       " 'o',\n",
       " 'a',\n",
       " 'i',\n",
       " 's',\n",
       " 'e',\n",
       " 'o',\n",
       " 'a',\n",
       " 'c',\n",
       " 'c',\n",
       " 'c',\n",
       " 's',\n",
       " 'q',\n",
       " 'c',\n",
       " 'e',\n",
       " 'a',\n",
       " 'c',\n",
       " 'e',\n",
       " 'I',\n",
       " 'h',\n",
       " 'b',\n",
       " 'r',\n",
       " 't',\n",
       " 'a',\n",
       " 't',\n",
       " '\"',\n",
       " 'p',\n",
       " 'c',\n",
       " 'i',\n",
       " 't',\n",
       " 'w',\n",
       " 'a',\n",
       " 'o',\n",
       " 'o',\n",
       " 't',\n",
       " 'w',\n",
       " 'm',\n",
       " 'v',\n",
       " 'b',\n",
       " 'd',\n",
       " 't',\n",
       " 'i',\n",
       " 'm',\n",
       " 'd',\n",
       " 'd',\n",
       " 'c',\n",
       " 'a',\n",
       " 't',\n",
       " 'a',\n",
       " 'i',\n",
       " 't',\n",
       " 'a',\n",
       " 'o',\n",
       " 'a',\n",
       " 'i',\n",
       " 'I',\n",
       " 'i',\n",
       " 'c',\n",
       " 'o',\n",
       " 'o',\n",
       " 't',\n",
       " 'B',\n",
       " 'F',\n",
       " 'A',\n",
       " 'i',\n",
       " 't',\n",
       " 'c',\n",
       " 'a',\n",
       " 'A',\n",
       " 'A',\n",
       " 'M',\n",
       " 'a',\n",
       " 'M']"
      ]
     },
     "execution_count": 84,
     "metadata": {},
     "output_type": "execute_result"
    }
   ],
   "source": [
    "l2=[]\n",
    "for i in l1[0].split():\n",
    "    l2.append(i[0])\n",
    "    \n",
    "l2"
   ]
  },
  {
   "cell_type": "markdown",
   "id": "3b285b49",
   "metadata": {},
   "source": [
    "r\tOnly for reading. The pointer is located at the start of file and it’s a default mode.\n",
    "rb\tOnly for reading in a binary format. The pointer is located at the start of file and it’s a default mode.\n",
    "r+\tTo opens a file for the both writing and reading. The pointer is located at the start of file.\n",
    "rb+\tFor the both writing and reading operation in binary format. The pointer is located at the start of file.\n",
    "w\tOnly for writing. Check for existing file, if its present overwrites in the exists file. If there is no any existing file then, makes a novel file for the writing.\n",
    "wb\tOnly for writing in a binary format. Check for existing file, if its present overwrites in the exists file. If there is no any existing file then, makes a novel file for the writing.\n",
    "w+\tFor the both writing and reading operation. Check for existing file, if its present overwrites in the exists file. If there is no any existing file then, makes a novel file for the writing and reading.\n",
    "wb+\tFor the both writing and reading operation in binary format. Check for existing file, if its present overwrites in the exists file. If there is no any existing file then, makes a novel file for the writing and reading.\n",
    "a\topens the file for appending; any data written to the file is automatically added to the end. Check for existing file, if its present pointer is set at last of existing file for appending operation. If there is no any existing file then, makes a novel file for the writing."
   ]
  },
  {
   "cell_type": "code",
   "execution_count": 85,
   "id": "9e45e1d2",
   "metadata": {},
   "outputs": [
    {
     "name": "stdout",
     "output_type": "stream",
     "text": [
      " Volume in drive C is WINDOWS\n",
      " Volume Serial Number is 8232-B192\n",
      "\n",
      " Directory of C:\\Users\\shiva\n",
      "\n",
      "04/28/2022  01:56 PM    <DIR>          .\n",
      "04/28/2022  01:56 PM    <DIR>          ..\n",
      "01/23/2022  09:54 PM               913 .bash_history\n",
      "01/22/2022  11:37 PM                66 .gitconfig\n",
      "04/28/2022  12:02 PM    <DIR>          .ipynb_checkpoints\n",
      "01/21/2022  08:51 PM    <DIR>          .ipython\n",
      "04/19/2022  12:43 PM    <DIR>          .jupyter\n",
      "01/22/2022  11:37 PM                20 .lesshst\n",
      "12/26/2021  10:04 PM    <DIR>          3D Objects\n",
      "01/19/2022  09:58 PM    <DIR>          anaconda3\n",
      "04/18/2022  02:52 PM               908 Assignment_1.ipynb\n",
      "12/26/2021  10:04 PM    <DIR>          Contacts\n",
      "12/26/2021  10:41 PM    <DIR>          Documents\n",
      "04/23/2022  10:35 AM    <DIR>          Downloads\n",
      "12/26/2021  10:04 PM    <DIR>          Favorites\n",
      "04/28/2022  01:56 PM            37,174 file_handling.ipynb\n",
      "04/17/2022  02:39 PM             8,865 for & while_loops.ipynb\n",
      "04/19/2022  03:34 PM            15,945 function_class-1.ipynb\n",
      "04/23/2022  09:57 PM            54,256 function_class-2.ipynb\n",
      "04/23/2022  10:34 AM             2,681 function_practice_problems.ipynb\n",
      "04/28/2022  12:54 PM             2,178 google.txt\n",
      "04/16/2022  11:33 PM            13,874 ifelse_forloops_day4.ipynb\n",
      "12/26/2021  10:04 PM    <DIR>          Links\n",
      "04/19/2022  01:11 PM            15,606 loops_practice.ipynb\n",
      "12/26/2021  10:04 PM    <DIR>          Music\n",
      "04/19/2022  03:42 PM    <DIR>          OneDrive\n",
      "12/26/2021  10:04 PM    <DIR>          Saved Games\n",
      "12/26/2021  10:06 PM    <DIR>          Searches\n",
      "04/22/2022  03:45 PM            48,395 string_list_day2.ipynb\n",
      "04/28/2022  12:33 PM               228 test1.txt\n",
      "04/28/2022  12:13 PM                50 test2.txt\n",
      "01/22/2022  12:41 AM    <DIR>          Tracing\n",
      "04/22/2022  03:46 PM            39,937 tuples_set_dict_day3.ipynb\n",
      "01/03/2022  11:11 AM    <DIR>          Videos\n",
      "              16 File(s)        241,096 bytes\n",
      "              18 Dir(s)  66,717,888,512 bytes free\n"
     ]
    }
   ],
   "source": [
    "%ls"
   ]
  },
  {
   "cell_type": "code",
   "execution_count": 89,
   "id": "60b448be",
   "metadata": {},
   "outputs": [
    {
     "data": {
      "text/plain": [
       "'test3.txt'"
      ]
     },
     "execution_count": 89,
     "metadata": {},
     "output_type": "execute_result"
    }
   ],
   "source": [
    "f = open('test3.txt', \"x\")\n",
    "f.name"
   ]
  },
  {
   "cell_type": "code",
   "execution_count": 90,
   "id": "72a10e09",
   "metadata": {},
   "outputs": [
    {
     "data": {
      "text/plain": [
       "18"
      ]
     },
     "execution_count": 90,
     "metadata": {},
     "output_type": "execute_result"
    }
   ],
   "source": [
    "f.write(\"This is a new file\")"
   ]
  },
  {
   "cell_type": "code",
   "execution_count": 91,
   "id": "f0cd566a",
   "metadata": {},
   "outputs": [],
   "source": [
    "l = [\"this is my line one \" , \"this is my line 2\" , \" this is my line 3 \" , \"this is my line 4\"]"
   ]
  },
  {
   "cell_type": "code",
   "execution_count": 92,
   "id": "7f5dafd1",
   "metadata": {},
   "outputs": [],
   "source": [
    "f.writelines(l)"
   ]
  },
  {
   "cell_type": "code",
   "execution_count": 93,
   "id": "bd79a991",
   "metadata": {},
   "outputs": [],
   "source": [
    "f.close()"
   ]
  },
  {
   "cell_type": "code",
   "execution_count": 94,
   "id": "b798a8f2",
   "metadata": {},
   "outputs": [],
   "source": [
    "f = open('test3.txt', \"r+\")"
   ]
  },
  {
   "cell_type": "code",
   "execution_count": 95,
   "id": "80b4d368",
   "metadata": {},
   "outputs": [
    {
     "data": {
      "text/plain": [
       "'This is a new filethis is my line one this is my line 2 this is my line 3 this is my line 4'"
      ]
     },
     "execution_count": 95,
     "metadata": {},
     "output_type": "execute_result"
    }
   ],
   "source": [
    "f.read()"
   ]
  },
  {
   "cell_type": "code",
   "execution_count": 96,
   "id": "d09eeb30",
   "metadata": {},
   "outputs": [
    {
     "data": {
      "text/plain": [
       "5"
      ]
     },
     "execution_count": 96,
     "metadata": {},
     "output_type": "execute_result"
    }
   ],
   "source": [
    "f = open(\"google.txt\" , \"r+\")\n",
    "f.fileno()"
   ]
  },
  {
   "cell_type": "code",
   "execution_count": 97,
   "id": "a2d6e402",
   "metadata": {},
   "outputs": [],
   "source": [
    "f.close()"
   ]
  },
  {
   "cell_type": "code",
   "execution_count": 98,
   "id": "2107f9a4",
   "metadata": {},
   "outputs": [],
   "source": [
    "import os\n",
    "os.remove(\"google.txt\")"
   ]
  },
  {
   "cell_type": "code",
   "execution_count": 99,
   "id": "d8d8e47f",
   "metadata": {},
   "outputs": [
    {
     "name": "stdout",
     "output_type": "stream",
     "text": [
      " Volume in drive C is WINDOWS\n",
      " Volume Serial Number is 8232-B192\n",
      "\n",
      " Directory of C:\\Users\\shiva\n",
      "\n",
      "04/28/2022  02:20 PM    <DIR>          .\n",
      "04/28/2022  02:20 PM    <DIR>          ..\n",
      "01/23/2022  09:54 PM               913 .bash_history\n",
      "01/22/2022  11:37 PM                66 .gitconfig\n",
      "04/28/2022  12:02 PM    <DIR>          .ipynb_checkpoints\n",
      "01/21/2022  08:51 PM    <DIR>          .ipython\n",
      "04/19/2022  12:43 PM    <DIR>          .jupyter\n",
      "01/22/2022  11:37 PM                20 .lesshst\n",
      "12/26/2021  10:04 PM    <DIR>          3D Objects\n",
      "01/19/2022  09:58 PM    <DIR>          anaconda3\n",
      "04/18/2022  02:52 PM               908 Assignment_1.ipynb\n",
      "12/26/2021  10:04 PM    <DIR>          Contacts\n",
      "12/26/2021  10:41 PM    <DIR>          Documents\n",
      "04/23/2022  10:35 AM    <DIR>          Downloads\n",
      "12/26/2021  10:04 PM    <DIR>          Favorites\n",
      "04/28/2022  02:20 PM            42,059 file_handling.ipynb\n",
      "04/17/2022  02:39 PM             8,865 for & while_loops.ipynb\n",
      "04/19/2022  03:34 PM            15,945 function_class-1.ipynb\n",
      "04/23/2022  09:57 PM            54,256 function_class-2.ipynb\n",
      "04/23/2022  10:34 AM             2,681 function_practice_problems.ipynb\n",
      "04/16/2022  11:33 PM            13,874 ifelse_forloops_day4.ipynb\n",
      "12/26/2021  10:04 PM    <DIR>          Links\n",
      "04/19/2022  01:11 PM            15,606 loops_practice.ipynb\n",
      "12/26/2021  10:04 PM    <DIR>          Music\n",
      "04/19/2022  03:42 PM    <DIR>          OneDrive\n",
      "12/26/2021  10:04 PM    <DIR>          Saved Games\n",
      "12/26/2021  10:06 PM    <DIR>          Searches\n",
      "04/22/2022  03:45 PM            48,395 string_list_day2.ipynb\n",
      "04/28/2022  12:33 PM               228 test1.txt\n",
      "04/28/2022  12:13 PM                50 test2.txt\n",
      "04/28/2022  02:13 PM                91 test3.txt\n",
      "01/22/2022  12:41 AM    <DIR>          Tracing\n",
      "04/22/2022  03:46 PM            39,937 tuples_set_dict_day3.ipynb\n",
      "01/03/2022  11:11 AM    <DIR>          Videos\n",
      "              16 File(s)        243,894 bytes\n",
      "              18 Dir(s)  66,453,176,320 bytes free\n"
     ]
    }
   ],
   "source": [
    "%ls"
   ]
  },
  {
   "cell_type": "code",
   "execution_count": 100,
   "id": "9fb6b631",
   "metadata": {},
   "outputs": [
    {
     "data": {
      "text/plain": [
       "'C:\\\\Users\\\\shiva'"
      ]
     },
     "execution_count": 100,
     "metadata": {},
     "output_type": "execute_result"
    }
   ],
   "source": [
    "os.getcwd()"
   ]
  },
  {
   "cell_type": "code",
   "execution_count": 101,
   "id": "49c03908",
   "metadata": {},
   "outputs": [
    {
     "data": {
      "text/plain": [
       "'C:\\\\Users\\\\shiva'"
      ]
     },
     "execution_count": 101,
     "metadata": {},
     "output_type": "execute_result"
    }
   ],
   "source": [
    "pwd()"
   ]
  },
  {
   "cell_type": "code",
   "execution_count": 103,
   "id": "6d80bb16",
   "metadata": {},
   "outputs": [
    {
     "data": {
      "text/plain": [
       "['.bash_history',\n",
       " '.gitconfig',\n",
       " '.ipynb_checkpoints',\n",
       " '.ipython',\n",
       " '.jupyter',\n",
       " '.lesshst',\n",
       " '3D Objects',\n",
       " 'anaconda3',\n",
       " 'AppData',\n",
       " 'Application Data',\n",
       " 'Assignment_1.ipynb',\n",
       " 'Contacts',\n",
       " 'Cookies',\n",
       " 'Documents',\n",
       " 'Downloads',\n",
       " 'Favorites',\n",
       " 'file_handling.ipynb',\n",
       " 'for & while_loops.ipynb',\n",
       " 'function_class-1.ipynb',\n",
       " 'function_class-2.ipynb',\n",
       " 'function_practice_problems.ipynb',\n",
       " 'ifelse_forloops_day4.ipynb',\n",
       " 'IntelGraphicsProfiles',\n",
       " 'Links',\n",
       " 'Local Settings',\n",
       " 'loops_practice.ipynb',\n",
       " 'Music',\n",
       " 'My Documents',\n",
       " 'NetHood',\n",
       " 'NTUSER.DAT',\n",
       " 'ntuser.dat.LOG1',\n",
       " 'ntuser.dat.LOG2',\n",
       " 'NTUSER.DAT{984037c3-66d6-11ec-a83c-d5dcdcdca0a5}.TM.blf',\n",
       " 'NTUSER.DAT{984037c3-66d6-11ec-a83c-d5dcdcdca0a5}.TMContainer00000000000000000001.regtrans-ms',\n",
       " 'NTUSER.DAT{984037c3-66d6-11ec-a83c-d5dcdcdca0a5}.TMContainer00000000000000000002.regtrans-ms',\n",
       " 'ntuser.ini',\n",
       " 'OneDrive',\n",
       " 'PrintHood',\n",
       " 'Recent',\n",
       " 'Saved Games',\n",
       " 'Searches',\n",
       " 'SendTo',\n",
       " 'Start Menu',\n",
       " 'string_list_day2.ipynb',\n",
       " 'Templates',\n",
       " 'test1.txt',\n",
       " 'test2.txt',\n",
       " 'test3.txt',\n",
       " 'Tracing',\n",
       " 'tuples_set_dict_day3.ipynb',\n",
       " 'Videos']"
      ]
     },
     "execution_count": 103,
     "metadata": {},
     "output_type": "execute_result"
    }
   ],
   "source": [
    "os.listdir(\"C:\\\\Users\\\\shiva\")"
   ]
  },
  {
   "cell_type": "code",
   "execution_count": 114,
   "id": "6eb3cfa9",
   "metadata": {},
   "outputs": [
    {
     "name": "stdout",
     "output_type": "stream",
     "text": [
      "test1.txt\n",
      "test2.txt\n",
      "test3.txt\n"
     ]
    }
   ],
   "source": [
    "import os\n",
    "for file in os.listdir(\"C:\\\\Users\\\\shiva\"):\n",
    "    if file.endswith(\".txt\"):\n",
    "        print(os.path.join(file))"
   ]
  },
  {
   "cell_type": "code",
   "execution_count": null,
   "id": "16401fbc",
   "metadata": {},
   "outputs": [],
   "source": []
  }
 ],
 "metadata": {
  "kernelspec": {
   "display_name": "Python 3 (ipykernel)",
   "language": "python",
   "name": "python3"
  },
  "language_info": {
   "codemirror_mode": {
    "name": "ipython",
    "version": 3
   },
   "file_extension": ".py",
   "mimetype": "text/x-python",
   "name": "python",
   "nbconvert_exporter": "python",
   "pygments_lexer": "ipython3",
   "version": "3.9.7"
  }
 },
 "nbformat": 4,
 "nbformat_minor": 5
}
