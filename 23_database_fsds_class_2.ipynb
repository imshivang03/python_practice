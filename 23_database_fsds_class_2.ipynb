{
 "cells": [
  {
   "cell_type": "code",
   "execution_count": 2,
   "id": "39f3d01d",
   "metadata": {},
   "outputs": [
    {
     "name": "stdout",
     "output_type": "stream",
     "text": [
      "True\n"
     ]
    }
   ],
   "source": [
    "import mysql.connector as connection\n",
    "\n",
    "mydb= connection.connect(host= \"127.0.0.1\", user= \"root\", passwd= \"1q2q3e4e\", database= \"glassdata\", use_pure= True)\n",
    "print(mydb.is_connected())\n",
    "cursor= mydb.cursor()\n",
    "query= \"delete from glasstable where Index_Number= 1\"\n",
    "cursor.execute(query)\n",
    "mydb.commit()"
   ]
  },
  {
   "cell_type": "code",
   "execution_count": 4,
   "id": "6be15dfa",
   "metadata": {},
   "outputs": [
    {
     "name": "stdout",
     "output_type": "stream",
     "text": [
      "True\n",
      "done\n"
     ]
    }
   ],
   "source": [
    "mydb= connection.connect(host= \"127.0.0.1\", user= \"root\", passwd= \"1q2q3e4e\", database= \"glassdata\", use_pure= True)\n",
    "print(mydb.is_connected())\n",
    "cursor= mydb.cursor()\n",
    "query= \"Update glasstable SET Index_Number= 1011, RI=3.45 , Na= 9.98 , Mg= 1.79, Al= 2.33  where Index_Number= 2\"\n",
    "cursor.execute(query)\n",
    "mydb.commit()\n",
    "print(\"done\")"
   ]
  }
 ],
 "metadata": {
  "kernelspec": {
   "display_name": "Python 3 (ipykernel)",
   "language": "python",
   "name": "python3"
  },
  "language_info": {
   "codemirror_mode": {
    "name": "ipython",
    "version": 3
   },
   "file_extension": ".py",
   "mimetype": "text/x-python",
   "name": "python",
   "nbconvert_exporter": "python",
   "pygments_lexer": "ipython3",
   "version": "3.9.7"
  }
 },
 "nbformat": 4,
 "nbformat_minor": 5
}
